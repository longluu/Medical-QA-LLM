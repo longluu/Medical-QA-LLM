{
 "cells": [
  {
   "cell_type": "markdown",
   "id": "bb0ff562-289b-4358-b8ab-5edeb530b2e6",
   "metadata": {
    "tags": []
   },
   "source": [
    "# Look at a sample"
   ]
  },
  {
   "cell_type": "code",
   "execution_count": 33,
   "id": "d843269e-6b23-46c2-8cec-73ad7bd48091",
   "metadata": {
    "tags": []
   },
   "outputs": [
    {
     "data": {
      "application/vnd.jupyter.widget-view+json": {
       "model_id": "6f18f8186f2648ac8e74acd47131e62b",
       "version_major": 2,
       "version_minor": 0
      },
      "text/plain": [
       "Downloading data:   0%|          | 0.00/2.27M [00:00<?, ?B/s]"
      ]
     },
     "metadata": {},
     "output_type": "display_data"
    },
    {
     "data": {
      "application/vnd.jupyter.widget-view+json": {
       "model_id": "135dbeca9be84da0bb4076dd88b8e710",
       "version_major": 2,
       "version_minor": 0
      },
      "text/plain": [
       "Generating train split: 0 examples [00:00, ? examples/s]"
      ]
     },
     "metadata": {},
     "output_type": "display_data"
    }
   ],
   "source": [
    "from datasets import load_dataset\n",
    "\n",
    "dataset = load_dataset(\"covid_qa_deepset\")"
   ]
  },
  {
   "cell_type": "code",
   "execution_count": 34,
   "id": "43e05a47-8fb4-40cd-b75b-b433b1a289fa",
   "metadata": {
    "tags": []
   },
   "outputs": [
    {
     "data": {
      "text/plain": [
       "DatasetDict({\n",
       "    train: Dataset({\n",
       "        features: ['document_id', 'context', 'question', 'is_impossible', 'id', 'answers'],\n",
       "        num_rows: 2019\n",
       "    })\n",
       "})"
      ]
     },
     "execution_count": 34,
     "metadata": {},
     "output_type": "execute_result"
    }
   ],
   "source": [
    "dataset"
   ]
  },
  {
   "cell_type": "code",
   "execution_count": 39,
   "id": "b205a1a2-8bc6-4ce4-b67f-7d13a4455d7b",
   "metadata": {
    "tags": []
   },
   "outputs": [
    {
     "name": "stdout",
     "output_type": "stream",
     "text": [
      "Functional Genetic Variants in DC-SIGNR Are Associated with Mother-to-Child Transmission of HIV-1\n",
      "\n",
      "https://www.ncbi.nlm.nih.gov/pmc/articles/PMC2752805/\n",
      "\n",
      "Boily-Larouche, Geneviève; Iscache, Anne-Laure; Zijenah, Lynn S.; Humphrey, Jean H.; Mouland, Andrew J.; Ward, Brian J.; Roger, Michel\n",
      "2009-10-07\n",
      "DOI:10.1371/journal.pone.0007211\n",
      "License:cc-by\n",
      "\n",
      "Abstract: BACKGROUND: Mother-to-child transmission (MTCT) is the main cause of HIV-1 infection in children worldwide. Given that the C-type lectin recep\n"
     ]
    }
   ],
   "source": [
    "print(dataset['train'][0]['context'][:500])"
   ]
  },
  {
   "cell_type": "code",
   "execution_count": 40,
   "id": "d8b9e7c9-736e-4e6d-aeaf-6cdaee2f5b4f",
   "metadata": {
    "tags": []
   },
   "outputs": [
    {
     "name": "stdout",
     "output_type": "stream",
     "text": [
      "What is the main cause of HIV-1 infection in children?\n"
     ]
    }
   ],
   "source": [
    "print(dataset['train'][0]['question'])"
   ]
  },
  {
   "cell_type": "code",
   "execution_count": 41,
   "id": "ed4fe5b9-8c26-4b28-b8c8-23bfe4f87270",
   "metadata": {
    "tags": []
   },
   "outputs": [
    {
     "name": "stdout",
     "output_type": "stream",
     "text": [
      "{'text': ['Mother-to-child transmission (MTCT) is the main cause of HIV-1 infection in children worldwide.'], 'answer_start': [370]}\n"
     ]
    }
   ],
   "source": [
    "print(dataset['train'][0]['answers'])"
   ]
  },
  {
   "cell_type": "code",
   "execution_count": 69,
   "id": "1692950c-e49c-487c-8494-45adb7565707",
   "metadata": {
    "tags": []
   },
   "outputs": [
    {
     "data": {
      "text/plain": [
       "[262, 276, 278, 316, 305]"
      ]
     },
     "execution_count": 69,
     "metadata": {},
     "output_type": "execute_result"
    }
   ],
   "source": [
    "dataset['train'][:5]['id']"
   ]
  },
  {
   "cell_type": "markdown",
   "id": "0d446e62-2382-4040-8816-74f82afa5ba0",
   "metadata": {},
   "source": [
    "# Make train/test split"
   ]
  },
  {
   "cell_type": "code",
   "execution_count": 26,
   "id": "3a0209eb-93aa-4e36-9b98-6667a0ff7250",
   "metadata": {
    "tags": []
   },
   "outputs": [],
   "source": [
    "from datasets import load_dataset, DatasetDict\n",
    "\n",
    "dataset = load_dataset(\"covid_qa_deepset\")\n",
    "dataset_split = dataset['train'].train_test_split(test_size=0.1)\n",
    "dataset = DatasetDict({\"train\": dataset_split['train'],\n",
    "                       \"validation\": dataset_split['test']})"
   ]
  },
  {
   "cell_type": "code",
   "execution_count": 27,
   "id": "a67c974c-9c0f-4c27-b810-dc55ae32a154",
   "metadata": {
    "tags": []
   },
   "outputs": [
    {
     "data": {
      "text/plain": [
       "DatasetDict({\n",
       "    train: Dataset({\n",
       "        features: ['document_id', 'context', 'question', 'is_impossible', 'id', 'answers'],\n",
       "        num_rows: 1817\n",
       "    })\n",
       "    validation: Dataset({\n",
       "        features: ['document_id', 'context', 'question', 'is_impossible', 'id', 'answers'],\n",
       "        num_rows: 202\n",
       "    })\n",
       "})"
      ]
     },
     "execution_count": 27,
     "metadata": {},
     "output_type": "execute_result"
    }
   ],
   "source": [
    "dataset"
   ]
  },
  {
   "cell_type": "code",
   "execution_count": 28,
   "id": "1539c986-9740-402a-9ce8-12011785ba23",
   "metadata": {
    "tags": []
   },
   "outputs": [
    {
     "data": {
      "application/vnd.jupyter.widget-view+json": {
       "model_id": "e071bee04eef4a6ea2ddb2c9477138c1",
       "version_major": 2,
       "version_minor": 0
      },
      "text/plain": [
       "VBox(children=(HTML(value='<center> <img\\nsrc=https://huggingface.co/front/assets/huggingface_logo-noborder.sv…"
      ]
     },
     "metadata": {},
     "output_type": "display_data"
    }
   ],
   "source": [
    "from huggingface_hub import notebook_login\n",
    "\n",
    "notebook_login()\n"
   ]
  },
  {
   "cell_type": "code",
   "execution_count": 29,
   "id": "44d84e5a-3f25-4518-9859-cace04ac7dd4",
   "metadata": {
    "tags": []
   },
   "outputs": [
    {
     "data": {
      "application/vnd.jupyter.widget-view+json": {
       "model_id": "2adedcd7e2cc447abe2c5520b2f0f4d7",
       "version_major": 2,
       "version_minor": 0
      },
      "text/plain": [
       "Uploading the dataset shards:   0%|          | 0/1 [00:00<?, ?it/s]"
      ]
     },
     "metadata": {},
     "output_type": "display_data"
    },
    {
     "data": {
      "application/vnd.jupyter.widget-view+json": {
       "model_id": "146820dac1104263ac49bf188760825e",
       "version_major": 2,
       "version_minor": 0
      },
      "text/plain": [
       "Creating parquet from Arrow format:   0%|          | 0/2 [00:00<?, ?ba/s]"
      ]
     },
     "metadata": {},
     "output_type": "display_data"
    },
    {
     "data": {
      "application/vnd.jupyter.widget-view+json": {
       "model_id": "e492e266a7f042bf9a3ac9ba3111d418",
       "version_major": 2,
       "version_minor": 0
      },
      "text/plain": [
       "Uploading the dataset shards:   0%|          | 0/1 [00:00<?, ?it/s]"
      ]
     },
     "metadata": {},
     "output_type": "display_data"
    },
    {
     "data": {
      "application/vnd.jupyter.widget-view+json": {
       "model_id": "5d990c45a65246929a47d3c5d08c086d",
       "version_major": 2,
       "version_minor": 0
      },
      "text/plain": [
       "Creating parquet from Arrow format:   0%|          | 0/1 [00:00<?, ?ba/s]"
      ]
     },
     "metadata": {},
     "output_type": "display_data"
    },
    {
     "data": {
      "application/vnd.jupyter.widget-view+json": {
       "model_id": "4363cc5c254d4559b74c194a7bdf3022",
       "version_major": 2,
       "version_minor": 0
      },
      "text/plain": [
       "README.md:   0%|          | 0.00/21.0 [00:00<?, ?B/s]"
      ]
     },
     "metadata": {},
     "output_type": "display_data"
    },
    {
     "data": {
      "text/plain": [
       "CommitInfo(commit_url='https://huggingface.co/datasets/longluu/covid-qa-split/commit/d73aa42441faf4086885d8d26352706a4a88a5ab', commit_message='Upload dataset', commit_description='', oid='d73aa42441faf4086885d8d26352706a4a88a5ab', pr_url=None, pr_revision=None, pr_num=None)"
      ]
     },
     "execution_count": 29,
     "metadata": {},
     "output_type": "execute_result"
    }
   ],
   "source": [
    "dataset.push_to_hub(\"longluu/covid-qa-split\")"
   ]
  },
  {
   "cell_type": "code",
   "execution_count": null,
   "id": "43033927-e581-4f40-ba02-ddd79b0c35cb",
   "metadata": {},
   "outputs": [],
   "source": []
  }
 ],
 "metadata": {
  "kernelspec": {
   "display_name": "Custom (Tutorial-LLM)",
   "language": "python",
   "name": "tutorial-llm"
  },
  "language_info": {
   "codemirror_mode": {
    "name": "ipython",
    "version": 3
   },
   "file_extension": ".py",
   "mimetype": "text/x-python",
   "name": "python",
   "nbconvert_exporter": "python",
   "pygments_lexer": "ipython3",
   "version": "3.9.2"
  }
 },
 "nbformat": 4,
 "nbformat_minor": 5
}
