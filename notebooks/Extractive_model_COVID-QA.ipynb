{
 "cells": [
  {
   "cell_type": "markdown",
   "id": "96f1c2bf-26bd-4ef1-b70a-89c3096f121a",
   "metadata": {
    "jp-MarkdownHeadingCollapsed": true,
    "tags": []
   },
   "source": [
    "# GatorTronS"
   ]
  },
  {
   "cell_type": "markdown",
   "id": "7cdbc7d5-156e-4cb6-96c8-99ae607d9ee8",
   "metadata": {
    "tags": []
   },
   "source": [
    "## Train the model"
   ]
  },
  {
   "cell_type": "code",
   "execution_count": null,
   "id": "137d364b-6ae7-487c-aa73-c25b0c516299",
   "metadata": {
    "tags": []
   },
   "outputs": [],
   "source": [
    "import logging\n",
    "logging.disable(logging.INFO) # disable INFO and DEBUG logging everywhere\n",
    "\n",
    "%run /home/ec2-user/SageMaker/Medical-QA-extractive/src/models/run_qa.py \\\n",
    "    --model_name_or_path 'UFNLP/gatortrons' \\\n",
    "    --dataset_name 'longluu/covid-qa-split' \\\n",
    "    --do_train \\\n",
    "    --do_eval\\\n",
    "    --per_device_train_batch_size 4 \\\n",
    "    --learning_rate 3e-5 \\\n",
    "    --num_train_epochs 2 \\\n",
    "    --max_seq_length 512 \\\n",
    "    --doc_stride 250 \\\n",
    "    --max_answer_length 200 \\\n",
    "    --output_dir \"/home/ec2-user/SageMaker/Medical-QA-extractive/models/COVID-QA/gatortrons/\" \\\n",
    "    --overwrite_output_dir \\\n",
    "    --save_strategy \"epoch\""
   ]
  },
  {
   "cell_type": "markdown",
   "id": "d6c43020-bd3c-4ddd-bced-e1d83b9ca70c",
   "metadata": {},
   "source": [
    "## Evaluate the model"
   ]
  },
  {
   "cell_type": "code",
   "execution_count": 1,
   "id": "924e164d",
   "metadata": {},
   "outputs": [
    {
     "name": "stderr",
     "output_type": "stream",
     "text": [
      "c:\\Users\\thelo\\Medical-QA-LLM\\venv\\lib\\site-packages\\tqdm\\auto.py:21: TqdmWarning: IProgress not found. Please update jupyter and ipywidgets. See https://ipywidgets.readthedocs.io/en/stable/user_install.html\n",
      "  from .autonotebook import tqdm as notebook_tqdm\n"
     ]
    },
    {
     "name": "stdout",
     "output_type": "stream",
     "text": [
      "GPU used: NVIDIA GeForce RTX 3080\n"
     ]
    },
    {
     "name": "stderr",
     "output_type": "stream",
     "text": [
      "c:\\Users\\thelo\\Medical-QA-LLM\\venv\\lib\\site-packages\\huggingface_hub\\file_download.py:797: FutureWarning: `resume_download` is deprecated and will be removed in version 1.0.0. Downloads always resume when possible. If you want to force a new download, use `force_download=True`.\n",
      "  warnings.warn(\n"
     ]
    }
   ],
   "source": [
    "from transformers import pipeline\n",
    "import torch\n",
    "\n",
    "# Check GPU\n",
    "if torch.cuda.is_available():\n",
    "    print(\"GPU used:\", torch.cuda.get_device_name(0))\n",
    "    \n",
    "# Load the model\n",
    "qa_pipeline = pipeline(\"question-answering\", model=\"longluu/Medical-QA-gatortrons-COVID-QA\", device=torch.cuda.current_device())"
   ]
  },
  {
   "cell_type": "code",
   "execution_count": 3,
   "id": "d653c1c0",
   "metadata": {},
   "outputs": [],
   "source": [
    "context = \"Functional Genetic Variants in DC-SIGNR Are Associated with Mother-to-Child Transmission of HIV-1 https://www.ncbi.nlm.nih.gov/pmc/articles/PMC2752805/ Boily-Larouche, Geneviève; Iscache, Anne-Laure; Zijenah, Lynn S.; Humphrey, Jean H.; Mouland, Andrew J.; Ward, Brian J.; Roger, Michel 2009-10-07 DOI:10.1371/journal.pone.0007211 License:cc-by Abstract: BACKGROUND: Mother-to-child transmission (MTCT) is the main cause of HIV-1 infection in children worldwide. Given that the C-type lectin receptor, dendritic cell-specific ICAM-grabbing non-integrin-related (DC-SIGNR, also known as CD209L or liver/lymph node–specific ICAM-grabbing non-integrin (L-SIGN)), can interact with pathogens including HIV-1 and is expressed at the maternal-fetal interface, we hypothesized that it could influence MTCT of HIV-1. METHODS AND FINDINGS: To investigate the potential role of DC-SIGNR in MTCT of HIV-1, we carried out a genetic association study of DC-SIGNR in a well-characterized cohort of 197 HIV-infected mothers and their infants recruited in Harare, Zimbabwe. Infants harbouring two copies of DC-SIGNR H1 and/or H3 haplotypes (H1-H1, H1-H3, H3-H3) had a 3.6-fold increased risk of in utero (IU) (P = 0.013) HIV-1 infection and a 5.7-fold increased risk of intrapartum (IP) (P = 0.025) HIV-1 infection after adjusting for a number of maternal factors. The implicated H1 and H3 haplotypes share two single nucleotide polymorphisms (SNPs) in promoter region (p-198A) and intron 2 (int2-180A) that were associated with increased risk of both IU (P = 0.045 and P = 0.003, respectively) and IP (P = 0.025, for int2-180A) HIV-1 infection. The promoter variant reduced transcriptional activity in vitro. In homozygous H1 infants bearing both the p-198A and int2-180A mutations, we observed a 4-fold decrease in the level of placental DC-SIGNR transcripts, disproportionately affecting the expression of membrane-bound isoforms compared to infant noncarriers (P = 0.011). CONCLUSION: These results suggest that DC-SIGNR plays a crucial role in MTCT of HIV-1 and that impaired placental DC-SIGNR expression increases risk of transmission. Text: Without specific interventions, the rate of HIV-1 mother-tochild transmission (MTCT) is approximately 15-45% [1] . UNAIDS estimates that last year alone, more than 400,000 children were infected worldwide, mostly through MTCT and 90% of them lived in sub-Saharan Africa. In the most heavilyaffected countries, such as Zimbabwe, HIV-1 is responsible for one third of all deaths among children under the age of five. MTCT of HIV-1 can occur during pregnancy (in utero, IU), delivery (intrapartum, IP) or breastfeeding (postpartum, PP). High maternal viral load, low CD4 cells count, vaginal delivery, low gestational age have all been identified as independent factors associated with MTCT of HIV-1 [1] . Although antiretrovirals can reduce MTCT to 2%, limited access to timely diagnostics and drugs in many developing world countries limits the potential impact of this strategy. A better understanding of the mechanisms acting at the maternal-fetal interface is crucial for the design of alternative interventions to antiretroviral therapy for transmission prevention. Dendritic cell-specific ICAM-grabbing non-integrin-related (DC-SIGNR, also known as CD209L or liver/lymph node-specific ICAM-grabbing non-integrin (L-SIGN)) can interact with a plethora of pathogens including HIV-1 and is expressed in placental capillary endothelial cells [2] . DC-SIGNR is organized in three distinct domains, an N-terminal cytoplasmic tail, a repeat region containing seven repeat of 23 amino acids and a C-terminal domain implicated in pathogen binding. Alternative splicing of DC-SIGNR gene leads to the production of a highly diversify isoforms repertoire which includes membrane-bound and soluble isoforms [3] . It has been proposed that interaction between DC-SIGNR and HIV-1 might enhance viral transfer to other susceptible cell types [2] but DC-SIGNR can also internalize and mediate proteasome-dependant degradation of viruses [4] that may differently affect the outcome of infection. Given the presence of DC-SIGNR at the maternal-fetal interface and its interaction with HIV-1, we hypothesized that it could influence MTCT of HIV-1. To investigate the potential role of DC-SIGNR in MTCT of HIV-1, we carried out a genetic association study of DC-SIGNR in a well-characterized cohort of HIV-infected mothers and their infants recruited in Zimbabwe, and identified specific DC-SIGNR variants associated with increased risks of HIV transmission. We further characterized the functional impact of these genetic variants on DC-SIGNR expression and show that they affect both the level and type of DC-SIGNR transcripts produced in the placenta. Samples consisted of stored DNA extracts obtained from 197 mother-child pairs co-enrolled immediately postpartum in the ZVITAMBO Vitamin A supplementation trial (Harare, Zimbabwe) and followed at 6 weeks, and 3-monthly intervals up to 24 months. The ZVITAMBO project was a randomized placebocontrolled clinical trial that enrolled 14,110 mother-child pairs, between November 1997 and January 2000, with the main objective of investigating the impact of immediate postpartum vitamin A supplementation on MTCT of HIV-1. The samples used in the present study were from mother-child pairs randomly assigned to the placebo group of the ZVITAMBO project. Antiretroviral prophylaxis for HIV-1-positive antenatal women was not available in the Harare public-sector during ZVITAMBO patient recruitment. The samples were consecutively drawn from two groups: 97 HIV-1-positive mother/HIV-1-positive child pairs and 100 HIV-1-positive mother/HIV-negative child pairs. Mother's serological status was determined by ELISA and confirmed by Western Blot. Infants were considered to be infected if they were HIV-1 seropositive at 18 months or older and had two or more positive HIV-1-DNA polymerase chain reaction (PCR) results at earlier ages. 100 infants were considered to be uninfected as they were ELISA negative at 18 months or older and had two DNA PCR negative results from samples collected at a younger age. Of the 97 HIV-1-infected infants, 57 were infected IU, 11 were infected IP, and 17 were infected PP as determined by PCR analyses of blood samples collected at birth, 6 weeks, 3 and 6 months of age and according to the following definitions adapted from Bryson and colleagues [5] . Briefly, infants who were DNA PCR positive at birth were infected IU. Infants with negative PCR results from sample obtained at birth but who become positive by 6 weeks of age were infected IP. Infants with negative PCR results at birth and 6 weeks of age but who subsequently became DNA PCR positive were considered to be infected during the PP period. In the analysis comparing the 3 different modes of MTCT, 12 HIV-1-infected infants were excluded because the PCR results were not available at 6 weeks of age. Full methods for recruitment, baseline characteristics collection, laboratory procedures have been described elsewhere [6] . The nucleotide sequence variation of the entire promoter, coding and part of 39-UTR regions of DC-SIGNR gene in the study population was determined previously [7] . Haplotype reconstruction was performed using Bayesian statistical method implemented in PHASE [8] , version 2.1.1, using single nucleotide polymorphism (SNP) with a minimum allele frequency (MAF) of 2%. We applied the algorithm five times, using different randomly generated seeds, and consistent results were obtained across runs ( Figure 1 ). Fifteen haplotype-tagged SNPs (htSNPs) were identified by the HaploBlockFinder software [9] with a MAF $5%. These htSNPs were genotyped in the 197 infants by direct PCR sequencing analysis as we have described previously [7] . The DC-SIGNR exon 4 repeat region genotype was determined by PCR amplification followed by migration in 1.5% agarose gels [10] . DNA sequences in the promoter region were analysed with the TESS interface (http//:www.cbil.upenn.edu/tess) for putative transcription factors binding sites using the TRANSFAC database. Luciferase reporter assays using pGL2-Basic vector were performed in order to investigate the functional effect of mutations on DC-SIGNR promoter activity. Genomic DNA from subjects homozygous for the promoter variants and WT was amplified from nucleotide position 2715 to 21 and cloned between the BglII and HindIII multiple cloning sites in the pGL2-Basic vector which harbours a reporter firefly luciferase gene downstream (Invitrogen Canada inc, Burlington, Canada). All recombinants clones were verified by DNA sequencing. The firefly luciferase test reporter vector was co-transfected at a ratio of 10:1 with the constitutive expressor of Renilla luciferase, phRL-CMV (Promega, Madison, WI, USA). We cultured HeLa cells in 6 wells plates (2610 5 cells) and transfected them the following day using lipofectamine (Invitrogen) according to the manufacturer. Cells were lysed and luciferase assays were performed using 20 mg of protein extract according to the manufacturer (Promega) at 44 h post-transfection. Firefly luciferase activity was normalized to Renilla luciferase activity. 0 mg, 0,5 mg or 1 mg CMV-Tat vector was transfected with LTR-Luc as a positive control in these experiments. We carried out lucierase assays in triplicate in three independent experiments. Results are expressed as mean6 standard error of the mean (S.E.M). First-term placental tissues were obtained from abortions following voluntary interruption of pregnancy at CHUM Hôpital Saint-Luc (Montreal, Canada). Tissues from 3 H1 (associated with MTCT of HIV-1) and 3 H15 (wild-type) homozygous haplotypes were used to analyse possible differences in isoform expression. Total placental RNAs were extracted by MasterPure DNA and RNA Extraction Kit (Epicentre Biotechnologies, Madison, WI, USA) according to the manufacturer. Fragments corresponding to the DC-SIGNR coding region were reversed transcribed (RT) and then amplified by nested PCR with the following primers; RT primers RR, first PCR RF and RR and second PCR RcF and RcR according to Liu and colleagues [11] . 1 mg of total RNA was reverse transcribed with Expand RT (Roche Applied Science, Indianapolis, IN, USA) according to the manufacturer and were PCR-amplified with DNA Platinum Taq Polymerase (Invitrogen). Major PCR products from the second PCR reaction were gel extracted with the Qiagen Gel Extraction Kit (Qiagen Canada inc, Mississauga, ON, Canada) and cloned using the TOPO TA Cloning Kit for sequencing (Invitrogen). For each placenta, 15 different clones were randomly selected and amplified with M13 primers and sequenced with ABI PRISM 3100 capillary automated sequencer (Applied Biosystems, Foster City, CA, USA). Sequences were analysed and aligned with GeneBank reference sequence NM_014257 using Lasergene software (DNA Stars, Madison, WI, USA). Quantitative expression of DC-SIGNR isoforms 1,5 mg of placental RNA was reverse transcribed using 2.5 mM of Oligo dT 20 and Expand RT in 20 ml volume according to the manufacturer (Roche Applied Science). 15 ng of total cDNA in a final volume of 20 ml was used to perform quantitative real-time PCR using Universal Express SYBR GreenER qPCR Supermix (Invitrogen) on a Rotor Gene Realtime Rotary Analyser (Corbett Life Science, Sydney, Australia). Samples from 2 subjects in each group were used because RNA quality of others was not suitable for a qRT-PCR analysis. Amplification of all DC-SIGNR isoforms was performed using an exon 5 specific primer pair (Table S1 ). Membrane-bound isoforms were amplified using primers specific for exon 3, corresponding to the common trans-membrane domain of DC-SIGNR. Primers were targeted to the exon-exon junction and RNA extracts were treated with DNase (Fermantas International inc, Burlington, ON, Canada) to avoid amplification of contaminant DNA. Standard curves (50-500 000 copies per reaction) were generated using serial dilution of a full-length DC-SIGNR or commercial GAPDH (Invitrogen) plasmid DNA. All qPCR reactions had efficiencies ranging from 99% to 100%, even in the presence of 20 ng of non-specific nucleic acids, and therefore could be compared. The copy number of unknown samples was estimated by placing the measured PCR cycle number (crossing threshold) on the standard curve. To correct for differences in both RNA quality and quantity between samples, the expression levels of transcripts were normalised to the reference GAPDH gene transcripts. GAPDH primer sequences were kindly provided by A. Mes-Masson at the CHUM. The results are presented as target gene copy number per 10 5 copies of GAPDH. The ratio of membrane-bound isoforms was calculated as E3/E5. Soluble isoforms were calculated by subtracting membrane-bound from total isoforms. We carried out qPCR assays in triplicate in three independent experiments. Results are expressed as mean6S.E.M. Statistical analysis was performed using the GraphPad PRISM 5.0 for Windows (GraphPad Software inc, San Diego, CA, USA). Differences in baseline characteristics and genotypic frequencies of haplotypes or htSNPs were compared between groups using the x 2 analysis or Fisher's exact test. Logistic regression analysis was used to estimate odds ratios (OR) for each genotype and baseline risk factors. Multiple logistic regression was used to define independent predictors identified as significant in the crude analysis. ORs and 95% confidence interval were calculated with the exact method. Comparisons of continuous variables between groups were assessed with the unpaired two-tailed Student's t test when variables were normally distributed and with the Mann-Whitney U test when otherwise. Differences were considered significant at P,0.05. Written informed consent was obtained from all mothers who participated in the study and the ZVITAMBO trial and the investigation reported in this paper were approved by The We carried out an association study of DC-SIGNR polymorphism in 197 infants born to untreated HIV-1-infected mothers recruited in Harare, Zimbabwe. Among them, 97 infants were HIV-1-infected and 100 infants remained uninfected. Of the 97 HIV-1-infected infants, 57 were infected IU, 11 were infected IP, and 17 were infected PP. Timing of infection was not determined for 12 HIV-1-infected infants. Baseline characteristics of mothers and infants are presented in Table 1 . Maternal age and CD4 cell count, child sex, mode of delivery, duration of membrane rupture and gestational age were similar among all groups. However, maternal viral load .29 000 copies/ml was associated with increased risk in both IU and PP with odds ratios (OR) of 3.64 (95% CI = 1.82-7.31, P = 0.0002) and 4.45 (95% CI = 1.50-13.2, P = 0.0045) for HIV-1 transmission, respectively. Fifteen haplotype-tagged SNPs (htSNPs) corresponding to the 15 major DC-SIGNR haplotypes ( Figure 1 ) described among Zimbabweans [7] were genotyped in our study samples (Tables S2 and S3 ). H1 (31%) and H3 (11%) were the most frequent haplotypes observed (Figure 1 ). Being homozygous for the H1 haplotype was associated with increased risk of both IU (OR: 4.42, P = 0.022) and PP (OR: 7.31, P = 0.016) HIV-1 transmission ( Table 2) . Infants harbouring two copy combinations of H1 and/ or H3 haplotypes (H1-H1, H1-H3 or H3-H3) had increased risk of IU (OR: 3.42, P = 0.007) and IP (OR: 5.71, P = 0.025) but not PP (P = 0.098) HIV-1 infection compared to infant noncarriers ( Table 2 ). The latter associations remained significant after adjustment was made for the maternal viral load for both IU (OR: 3.57, 95% CI = 1.30-9.82, P = 0.013) and IP (OR: 5.71, 95% CI = 1.40-23.3, P = 0.025) HIV-1 transmission. The H1 and H3 haplotypes share a cluster of mutations (p-198A, int2-391C, int2-180A, ex4RPT, int5+7C) ( Figure 1 ). Of these, the p-198A and int2-180A variants were significantly associated with MTCT of HIV-1 (Table S2 ). In the unadjusted regression analysis, homozygous infants for the p-198A and int2-180A variants had increased risk of IU (OR: 2.07 P = 0.045, OR: 3.78, P = 0.003, respectively) and IP (OR: 2.47, P = 0.17, O.R: 5.71, P = 0.025, respectively) HIV-1 infection compared to heterozygote infants or noncarriers (Table 3) . When adjustment was made for maternal factors, only the association with the int2-180A variant remained significant for IU (OR: 3.83, 95% CI = 1.42-10.4, P = 0.008) and IP (O.R: 5.71, 95% CI = 1.40-23.3, P = 0.025) HIV-1 transmission. Thus, infants homozygous for DC-SIGNR variant int2-180A contained in H1 and H3 haplotypes were 4-fold to 6-fold more likely to be infected by HIV-1 during pregnancy or at delivery, respectively. Alternative splicing of the DC-SIGNR gene in the placenta produces both membrane-bound and soluble isoform repertoires [3] . The relative proportion of membrane bound and soluble DC-SIGNR could plausibly influence the susceptibility to HIV-1 infection [11] . We therefore hypothesized that the DC-SIGNR mutations associated with MTCT of HIV-1 would have an impact on both the level of DC-SIGNR expression and in the isoform repertoire produced. We investigated DC-SIGNR transcript expression in first-term placentas obtained after elective abortion. We cloned DC-SIGNR from placental tissues by RT-PCR from 3 homozygous H1 samples containing both the DC-SIGNR p-198AA and int2-180AA variants associated with HIV-1 transmission and 3 homozygous wild-type (WT) (p-198CC, int2-180GG) samples. Fifteen clones per sample were randomly selected for sequencing. As expected, we found an extensive repertoire of DC-SIGNR transcripts in all samples with 9 to 16 different isoforms per individual. A total of 65 distinct transcripts were identified ( Figure S1 ), of which 3 were full-length transcripts. 64 of the sequenced clones contained a total of 69 amino acid substitutions with 3 new C termini and 2 premature stop codons. However, the diversity was mostly attributable to the entire deletion of exon 2 or exon 3 or to variations in the length of the neck region (exon 4) of DC-SIGNR. The deletion of exon 3 eliminates the trans-membrane domain of the protein and leads to the expression of soluble DC-SIGNR isoforms [3] . Interestingly, the abundance of membrane-bound isoforms in placental tissues of the H1 homozygotes appears to be lower than that observed in samples from WT individuals ( Figure S1 ). The deletion of exon 3 was confirmed by sequencing and we hypothesize that the skipping of exon 3, could be due to the presence of the int2-180A mutation observed in infants with the H1 haplotype. In fact, this intron mutation is located 180 bp downstream from exon 3 and potentially modifies splicing events (Figure 2A ). We confirmed that the variation in transcript proportions seen between the two groups was also reflected at the level of mRNA expression in the placenta. To quantify membrane-bound vs soluble isoforms in placental samples from homozygous H1 and WT infants, we amplified the exon 5 (E5) sequence present in all DC-SIGNR isoforms (total transcripts). We then amplified exon 3 (E3) which is deleted in the soluble forms and then calculated the E3:E5 ratio. We found that placental tissues from homozygous H1 infants express a significantly lower proportion of membrane-bound DC-SIGNR (18%) compared to that in WT individuals (36%) (P = 0.004) ( Figure 2B ) suggesting that exon 3 skipping happens more frequently in presence of the DC-SIGNR int2-180A variant associated with MTCT of HIV-1. The DC-SIGNR int2-180A variant is always transmitted with the promoter mutation p-198A (Figure 1 ). In the unadjusted regression analysis, the p-198A variant was significantly associated with IU but not with IP and PP HIV-1 transmission (Table 3) . Computational transcription factor binding site analysis predicts Table 1 . Baseline characteristics of mother and infants risk factors for intrauterine (IU), intrapartum (IP) and postpartum (PP) mother-to-child HIV-1 transmission. Figure 3A ). The luciferase activity of the p-198A variant construct was significantly lower than that of the WT p-198C promoter construct (p-198C/A ratio = 2, P = 0.006) ( Figure 3B ) suggesting that DC-SIGNR p-198A affects promoter activity. The other promoter mutants (p-577C and p-323A) observed in the Zimbabwean population did not affect DC-SIGNR transcription in this assay ( Figure S2 ). To determine the net impact of the DC-SIGNR p-198A mutation on DC-SIGNR expression in the placenta, we quantitated the absolute number of total and membrane-bound DC-SIGNR transcripts in the H1 homozygote and wild-type placental samples as described earlier. The total number of DC-SIGNR transcripts was determined to be 6856213 (DC-SIGNR copies6S.E.M per 10 5 GAPDH copies) in the placental samples from homozygous H1 infants and was 4-fold lower compared to that found in placentas from WT individuals (27816638, P = 0.011) ( Figure 3C ). As suggested earlier, the int2-180A mutation might induce exon 3 skipping leading to a lower production of membrane-bound DC-SIGNR. Although, the decrease in the total number of DC-SIGNR transcripts in H1 homozygous placental samples containing both the p-198AA and int2-180AA variants affected the proportion of membrane-bound and soluble isoforms, the effect of these mutations was more pronounced on the membrane-bound isoforms with an 8-fold decrease (H1 = 117636.2 vs WT = 9906220.6, P = 0.003) compared to a 3-fold decrease in total soluble isoforms (H1 = 5686181.9 vs WT = 19256495.3, P = 0.03) ( Figure 3C ). Therefore, DC-SIGNR p-198A and int2-180A mutations associated with MTCT of HIV-1 significantly decreased the level of total placental DC-SIGNR transcripts, disproportionately affecting the membrane-bound isoform production. Table 3 . Associations between infant DC-SIGNR promoter p-198 and intron 2 (int2)-180 variants and intrauterine (IU), intrapartum (IP) and postpartum (PP) mother-to-child HIV-1 transmission. Our genetic results, supported by expression assay in placenta, suggest the involvement of DC-SIGNR in MTCT of HIV-1. Homozygosity for the haplotype H1 was associated with IU transmission in the unadjusted regression analysis. However, the association disappeared after adjustment was made for the maternal factors presumably because of the small number of H1 homozygote infants analysed in each groups. H1 and H3 were the most frequent haplotypes observed in the study population and they share a cluster of mutations (Figure 1 ). Grouping haplotypes H1 and H3 increased the power of the study and permitted the identification of specific DC-SIGNR mutations associated with MTCT of HIV-1. Indeed, two mutations shared by haplotypes H1 and H3 were associated with vertical transmission of HIV-1. The int2-180A was associated with a 4-fold increased risk of IU and 6fold increased risk of IP after adjustment for the maternal factors. Although the p-198A variant was associated with IU transmission, the association disappeared after adjustment was made for the maternal viral load. Nevertheless, we showed that this mutation reduces DC-SIGNR transcriptional activity in vitro and produces lower level of DC-SIGNR transcripts in placental tissues in combination with the int2-180A variant. Since int2-180A is always transmitted with p-198A on the MTCT associated combined haplotypes H1/H3, whereas p-198A is carried on other nonassociated haplotypes (Figure 1) , we can speculate that the p-198A mutation alone may have a minor effect in vivo whereas in combination with the int2-180A variant, they both act to reduce the level of placental DC-SIGNR expression resulting in an increased risk of MTCT of HIV-1. The majority of IU transmission occurs during the last trimester of pregnancy (reviewed in [12] ). Full-term placenta samples were not available for the current study and the expression assays were performed on first-term placental tissues. A previous study looking at DC-SIGNR placental isoforms repertoire in full-term placenta samples demonstrated similar diversity of DC-SIGNR transcripts as in the first-term placental tissues studied herein [3] . However, since levels of DC-SIGNR expression have never been compared between the different terms of pregnancy, it is not known whether DC-SIGNR expression varies during the course of pregnancy. Nevertheless, it is reasonable to assume that the inter-individual differences in both DC-SIGNR isoform repertoire and transcript levels observed between the H1 and WT homozygous infants would be reflected throughout the pregnancy. To date, most studies have focused on the potential role of DC-SIGNR in trans infection of HIV-1 in vitro [2, 10] . However, the multiple mechanisms involved in trans infection and redundancy among C-type lectin functions make it difficult to determine the actual participation of DC-SIGNR in this mode of infection in vivo [13, 14] . The strong correlation we observed between MTCT of HIV-1 and DC-SIGNR genetic variants producing low levels of DC-SIGNR in the placenta suggested that mechanisms other than DC-SIGNR-mediated trans infection might operate during vertical transmission of HIV-1. For example, DC-SIGNR has also been shown to function as a HIV-1 antigen-capturing receptor [15] . Chan and colleagues recently demonstrated that DC-SIGNR transfected CHO cells diminish SARS-CoV titers by enhanced capture and degradation of the virus in a proteasome-dependent manner [4] . Since endothelial cells express MHC-I and II, degraded viral antigens could then be presented to immune cells to elicit an adaptive immune response [16, 17] . The HIV-1 coreceptor CCR5, but not CD4, is co-expressed with DC-SIGNR on placental and blood-brain barrier (BBB) endothelial cells [18, 19] . HIV-1 gp120 binding to CCR5 receptor on endothelial cells compromises BBB integrity and enhances monocytes adhesion and transmigration across the BBB [20, 21] . It is thus possible that reduced expression of DC-SIGNR, particularly the membranebound isoforms, on placental capillary endothelial cells might favour HIV-1 binding to CCR5 receptor, instead of DC-SIGNR receptor, facilitating the migration of maternal HIV-1-infected cells across the placental barrier resulting in IU transmission of HIV-1. The int2-180A variant contained in the H1 and H3 haplotypes was associated with IP transmission suggesting that DC-SIGNR also affect transmission of HIV-1 during delivery. Little is known about the mechanisms underlying transmission of HIV-1 during delivery. Passage through the birth canal could potentially expose infants through a mucosal portal entry (presumably ophthalmic, skin, or gastrointestinal), whereas placental insult during delivery (physical or inflammatory) may enhance transplacental passage of maternal HIV-1-infected cells into foetal circulation [22, 23] . Such process called microtransfusion has been proposed in regards to the results obtain in a Malawian cohort. Kweik and colleagues found a significant association between levels of maternal DNA in umbilical cord blood and IP transmission of HIV-1 suggesting that passage of maternal infected cells through the placenta is likely to occur during delivery [22] . Thus, in a similar fashion as suggested earlier for IU transmission, the relatively lower level of DC-SIGNR in the placenta of homozygous infants harbouring the int2-180A variant could promote HIV-1 binding to CCR5 receptor on endothelial cells affecting the placental barrier integrity and facilitating the passage of maternal infected cells in foetal circulation during delivery. Beside DC-SIGNR, other HIV-1 receptors are known to influence MTCT of HIV-1 (reviewed in [24] ). Genetic variants in CCR5 have been shown to influence vertical transmission of HIV-1. CCR5 promoter variants resulting in higher expression of the receptor were associated with increased risk of MTCT of HIV-1 among sub-Saharan Africans [25, 26] . The 32-pb deletion polymorphism in CCR5 has be shown to protect from vertical transmission of HIV-1 [27] , but this variant is virtually absent among African populations [28] . High copy numbers of CCL3L1, a potent HIV-1 suppressive ligand for CCR5, are associated with higher chemokine production and lower risk of MTCT of HIV-1 among South African infants [29, 30] . Mannose-binding lectin (MBL) is an innate immune receptor synthesised in the liver and secreted in the bloodstream in response to inflammation signal. MBL promotes pathogen elimination by opsonization and phagocytosis, and reduced expression of MBL resulting from polymorphism in coding and non-coding regions has been associated with an increased risk of MTCT of HIV-1 [31, 32] . In this study, we demonstrate for the first time, the potential functional impact of DC-SIGNR mutations on its expression in the placenta and in vertical transmission of HIV-1. We believe that the presence of DC-SIGNR at the placental endothelial cell surface may protect infants from HIV-1 infection by capturing virus and promoting its degradation/presentation. However, in placenta containing low levels of DC-SIGNR, HIV-1 would preferentially binds CCR5 on endothelial cells resulting in a loss of placental barrier integrity and enhanced passage of maternal HIV-1-infected cells in foetal circulation leading to MTCT of HIV-1. This mechanism may also apply to other vertically-transmitted pathogens known to interact with DC-SIGNR such as HIV-2, hepatitis C and dengue viruses and warrant further investigation. Associations between child DC-SIGNR exon 4 repeated region genotypes and mother-to-child HIV-1 transmission.CI, Confidence interval; N, number; NA; not applicable; OR, odds ratio a P-value as determined by the Chi-square test. b Comparison between genotype and all others. Found at: doi:10.1371/journal.pone.0007211.s003 (0.05 MB DOC) Figure S1 DC-SIGNR transcripts repertoire in placenta. Major RT-PCR products from RNA extract from 3 homozygous H1 and 3 homozygous WT placenta samples were purified, cloned and sequenced. Sequenced were analysed according to NCBI reference sequence NM_014257. CT; cytoplasmic tail, TM; trans-membrane domain; WT; wild-type Found at: doi:10.1371/journal.pone.0007211.s004 (0.11 MB DOC) Figure S2 Effect of DC-SIGNR promoter variant on transcriptional activity in luciferase reporter assay in vitro in transfected HeLa cells. Relative luciferase expression from pGL2-Basic, parental vector without promoter. Expression DC-SIGNR promoter constructs, spanning p-577C variant or p-323A variant were calculated relatively to this value. Data are presented in mean values6S.E.M of three independent experiments performed in triplicate. One-way ANOVA test followed by the Dunnett test for multiple comparison was used to compare the relative luciferase expression of the p-557C and p-323A variant reporters against the wild-type (WT) construct (not significant). 0 mg, 0,5 mg or 1 mg CMV-Tat vector was transfected with LTR-Luc as a positive control in these experiments.\""
   ]
  },
  {
   "cell_type": "code",
   "execution_count": 4,
   "id": "17864331",
   "metadata": {},
   "outputs": [
    {
     "data": {
      "text/plain": [
       "{'score': 0.5994764566421509,\n",
       " 'start': 2287,\n",
       " 'end': 2304,\n",
       " 'answer': 'more than 400,000'}"
      ]
     },
     "execution_count": 4,
     "metadata": {},
     "output_type": "execute_result"
    }
   ],
   "source": [
    "# Question 1\n",
    "question = \"How many children were infected by HIV-1 in 2008-2009, worldwide?\"#more than 400,000 children were infected worldwide, mostly through MTCT and 90% of them lived in sub-Saharan Africa.\n",
    "qa_pipeline(question=question, context=context)"
   ]
  },
  {
   "cell_type": "code",
   "execution_count": 5,
   "metadata": {},
   "outputs": [
    {
     "data": {
      "text/plain": [
       "{'score': 0.6089533567428589,\n",
       " 'start': 367,\n",
       " 'end': 395,\n",
       " 'answer': 'Mother-to-child transmission'}"
      ]
     },
     "execution_count": 5,
     "metadata": {},
     "output_type": "execute_result"
    }
   ],
   "source": [
    "# Question 2\n",
    "question = \"What is the main cause of HIV-1 infection in children?\"#Mother-to-child transmission (MTCT) is the main cause of HIV-1 infection in children worldwide.\n",
    "qa_pipeline(question=question, context=context)"
   ]
  },
  {
   "cell_type": "code",
   "execution_count": 6,
   "id": "66ea4959",
   "metadata": {},
   "outputs": [],
   "source": [
    "context=\"Ebola Virus Maintenance: If Not (Only) Bats, What Else?\\n\\nhttps://www.ncbi.nlm.nih.gov/pmc/articles/PMC6213544/\\n\\nSHA: f16da7cf7a952fb981dfc0d77280aac9c3ab933a\\n\\nAuthors: Caron, Alexandre; Bourgarel, Mathieu; Cappelle, Julien; Li\\u00e9geois, Florian; De Nys, H\\u00e9l\\u00e8ne M.; Roger, Fran\\u00e7ois\\nDate: 2018-10-09\\nDOI: 10.3390/v10100549\\nLicense: cc-by\\n\\nAbstract: The maintenance mechanisms of ebolaviruses in African forest ecosystems are still unknown, but indirect evidences point at the involvement of some bat species. Despite intense research, the main bat-maintenance hypothesis has not been confirmed yet. The alternative hypotheses of a non-bat maintenance host or a maintenance community including, or not, several bat and other species, deserves more investigation. However, African forest ecosystems host a large biodiversity and abound in potential maintenance hosts. How does one puzzle out? Since recent studies have revealed that several bat species have been exposed to ebolaviruses, the common denominator to these hypotheses is that within the epidemiological cycle, some bats species must be exposed to the viruses and infected by these potential alternative hosts. Under this constraint, and given the peculiar ecology of bats (roosting behaviour, habitat utilisation, and flight mode), we review the hosts and transmission pathways that can lead to bat exposure and infection to ebolaviruses. In contrast to the capacity of bats to transmit ebolaviruses and other pathogens to many hosts, our results indicate that only a limited number of hosts and pathways can lead to the transmission of ebolaviruses to bats, and that the alternative maintenance host, if it exists, must be amongst them. A list of these pathways is provided, along with protocols to prioritise and investigate these alternative hypotheses. In conclusion, taking into account the ecology of bats and their known involvement in ebolaviruses ecology drastically reduces the list of potential alternative maintenance hosts for ebolaviruses. Understanding the natural history of ebolaviruses is a health priority, and investigating these alternative hypotheses could complete the current effort focused on the role of bats.\\n\\nText: Ebolaviruses (EBVs), according to Kuhn et al. classification [1] ) are single-strand RNA filoviruses that can induce a high mortality in some hosts, including apes and humans [2, 3] . The different ebolaviruses have caused localised but dramatic human outbreaks, mainly in Central Africa, in the last 40 years. The recent West African outbreak in 2013-2016 gave an outline of the pandemic potential of these pathogens [4, 5] .\\n\\nDisentangling the complexity of maintenance hosts or communities in multi-host systems at the wildlife/livestock/human interface is a difficult task [16] [17] [18] . The maintenance of EBV in equatorial forests is yet to be understood. Some mammal species played a major role in triggering human outbreaks: apes such as chimpanzees (Pan troglodytes troglodytes and P. t. verus) and western lowland gorillas (Gorilla gorilla gorilla) were at the origin of several human outbreaks [10] [11] [12] , but have been found to be highly susceptible to EBV with potential drastic impact for their populations [12, 19] . EBOV PCR positive duiker carcasses (Cephalophus sp.) have also been found [20] . One would not expect such a high mortality (relative to their population density) of EBOV in maintenance hosts. However, these data indicate their possible involvement in the transmission function of EBOV, bridging the maintenance host with human populations during a spillover event [18] (Figure 1 ). The EBOV susceptibility and exposure (tested by virology, serology and/or PCR) of many other potential forest hosts, including invertebrates, birds, bats, monkeys, rodents, and other small mammals, have been tested in the field or experimentally with an interestingly large amount of negative results (e.g., [12, [21] [22] [23] [24] [25] [26] ). A few monkey and bat individuals serologically positive to EBV antigen represent the only exceptions [12] .\\n\\nToday, African bats are considered by many as the best candidates for acting as maintenance hosts for EBOV. Partial vRNA was sequenced from living specimens of three different bat species in Central Africa [23] , and antibodies against ebolavirus antigen have been detected in 9 bat species (8 frugivorous and 1 insectivorous) [3, 23, [27] [28] [29] [30] . Recently, a new ebolavirus species with an unknown pathogenic risk has also been isolated from two insectivorous bat species roosting inside a house [31] . Moreover, Swanepoel et al. showed that EBOV replicated in three species of experimentally infected bats (Tadarida condylura, Tadarida pumila, and Epomophorus wahlbergi), including virus isolated from faeces 21 days after experimental infection [22] . In addition, some bat species have been shown to act as maintenance hosts for multiple RNA viruses, including filoviruses (e.g., [32] [33] [34] ). However, to date, no EBOV replicative strain has been isolated from healthy wild bats despite thousands of individuals tested [14, [23] [24] [25] 28, 34, 35] . Given the current knowledge, the main hypotheses for EBOV maintenance are a single bat species as Rousettus aegyptiacus is considered the maintenance host for Marburg virus ( Figure 1A1 ); or a network of interacting bat species creating a maintenance community for EBOV ( Figure 1A2 ).\\n\\nThe bat system is complex. First, for its diversity: globally, they represent over 20% of the mammal diversity, forming the second largest mammalian order after rodents, and Africa hosts 317 known living species, 25% of the global bat diversity [36] . Secondly, bats have exceptional lifestyles that have already been reviewed, especially in relation to their role in disease ecology [33, [37] [38] [39] [40] [41] [42] [43] . They are unique mammal species regrouping such peculiar life history traits as their aerial life mode, their longevity, their gregarious and migration patterns, as well as their immune system. bridging the maintenance host with human populations during a spillover event [18] (Figure 1 ). The EBOV susceptibility and exposure (tested by virology, serology and/or PCR) of many other potential forest hosts, including invertebrates, birds, bats, monkeys, rodents, and other small mammals, have been tested in the field or experimentally with an interestingly large amount of negative results (e.g., [12, [21] [22] [23] [24] [25] [26] ). A few monkey and bat individuals serologically positive to EBV antigen represent the only exceptions [12] .\\n\\nPotential maintenance mechanisms of ebolaviruses in wildlife, according to current knowledge. Circles (plain or dotted) indicate a maintenance function play by the host(s); arrows represent infectious transmission pathways between hosts. Humans, non-human primates, and duikers are examples of known non-maintenance hosts, exposed occasionally to ebolavirus directly or indirectly through the main maintenance host. (A1) Main maintenance hypothesis: there is one bat Figure 1 . Potential maintenance mechanisms of ebolaviruses in wildlife, according to current knowledge. Circles (plain or dotted) indicate a maintenance function play by the host(s); arrows represent infectious transmission pathways between hosts. Humans, non-human primates, and duikers are examples of known non-maintenance hosts, exposed occasionally to ebolavirus directly or indirectly through the main maintenance host. (A1) Main maintenance hypothesis: there is one bat species maintaining each ebolavirus alone. Currently this is logically the most investigated hypothesis given the available data, and represents the maintenance mechanism for another filovirus, the Marburg virus, as currently understood. (A2) Several bat species are needed to create a maintenance community for Zaire ebolavirus (EBOV); each bat species cannot complete EBOV maintenance alone, as it requires interactions with the other species. (B) Alternate non-bat maintenance host hypothesis: if it exists, it is known that it can transmit ebolaviruses to some bat species. In this article, we review the potential hosts and associated transmission pathways that link this host to bat species (red arrow). (C) The maintenance community hypothesis, in which several hosts are needed to maintain ebolaviruses (ellipses represent different scenarios of community maintenance). This could be one or more alternative hosts involving possibly bat species. By definition, if such an alternative host exists, there are infectious transmission pathways from this host towards bats that are reviewed here (red arrows).\\n\\nProving that a bat species maintains EBOV (e.g., [44, 45] ), or that interconnected populations of different bat species create the cradle for EBOV maintenance in a specific ecosystem, is a difficult task. Finding a live virus in a healthy bat specimen would constitute a great step in proving that this particular species is part or the totality of the EBOV maintenance. However, this finding would also trigger new questions: does this species act alone to maintain EBOV, or do other sympatric bat species' populations create a maintenance community for EBOV? Is this EBOV maintenance system unique or ecosystem specific? Additionally, are other non-bat species involved in the maintenance? The road to identifying the maintenance host(s) of EBOV is still long.\\n\\nThe gaps in knowledge concerning the maintenance of EBOV and other EBV are therefore still significant. Available data indicates a systematic but weak signal in some bat species, a pattern in line with the main bat maintenance hypotheses, but not excluding as well alternative hypotheses as presented in Figure 1B ,C. If those alternative scenarios do not necessarily agree with the Occam's razor principle, they still cannot be ignored by the scientific community. African forest ecosystems host a high diversity of organisms relative to other ecosystems, and provide a rich pool of candidate species for playing a role in EBOV maintenance. EBOV specialists agree in calling for more integrated efforts across scientific fields, notably epidemiology, ecology, molecular biology, remote sensing modelling, and social sciences to test new hypotheses [39] . We provide, here, an ecological perspective on the EBOV multi-host system to provide a hypothesis-driven framework for future work. There is still a possibility that bats are not part of or that non-bat species are involved in the EBOV maintenance system and alternative scenarios should be considered and explored ( Figure 1 ) [46] . These scenarios should be investigated, when possible, alongside bat-centred protocols, to confirm or invalidate the case for bats as EBOV maintenance hosts.\\n\\nWhen a probability P is difficult or impossible to estimate, it is sometimes easier to estimate its inverse probability (1-P), the probability that it does not happen. It would be tedious to quantitatively estimate probabilities in the case of ebolavirus maintenance given the current lack of information, but trying to define the components of this probability could help. Hence, instead of proving that bats are the maintenance host for EBOV, what if we consider that \\\"bats are not the (only) maintenance host for EBOV\\\"?\\n\\nHere, we consider the scenario presented in Figure 1B ,C, namely, that bats are not the maintenance host for EBOV or that bat species are involved with alternative host(s) in the EBOV maintenance community. Current data and knowledge support both scenarios. Some bats are sometimes in contact with the virus and experience waves of exposure during outbreaks [27] . Once infected, bats could either be dead-end hosts, as some experimental studies suggest that some bat species cannot excrete the virus [47] ); or they could transmit viruses to other hosts, such as primates including humans [6, 48, 49] as a bridge host, linking the maintenance host with humans. This means based on the definition of a bridge host [18] , that these bats must have been in contact, at some point in the epidemiological cycle, with the maintenance host (or another bridge host) to get the EBOV infection. Here, \\\"contact\\\" means infectious contact, and can be direct (e.g., physical) or indirect (e.g., through the environment). The search for alternative maintenance hosts for EBOV should, therefore, concentrate on hosts that can transmit the virus to bats. In other words, any host that could not transmit the virus to bats would be ineligible to be a maintenance host for EBOV. This holds for any host found exposed to EBOV (e.g., some duiker sp.) but the focus on bats is justified in the following section.\\n\\nThe ecology of most African bat species is largely unknown. It can still be summarised as follows: roosting in trees (hanging or in holes) or caves, flying, eating insects while flying (insectivorous bats)/eating fruits in trees (fruit bat), flying back and roosting in trees or caves; with biannual long-range migration or nomadic movements for some species [50] . A single bat can cover a large variety of habitats and even regions for those migrating. Therefore, the transmission pathways from bats to other animals through urine, saliva, birthing fluids, and placental material and/or guano could be important (see review on Ebola isolated from body tissues and fluids [51] ). Predation is also a less known but potential transmission pathway from bats to predators [48, 52] . The range of potential species at risk of infection from bats is thus large [53] . However, the range of potential transmission pathways available for the maintenance or bridge host (under scenario B and C in Figure 1 ) to infect bats seems to be much more limited. For example, bats seldom use the ground floor: transmission routes requiring direct contact or environmental transmission on the ground do not expose bats. In other terms, direct contacts with strictly ground-dwelling animals would be very unlikely. Four habitat types structure the various transmission pathways from the alternative host to bats (and each bat species will frequent only a fraction of these habitats: (i) open air while flying, for insectivorous bats also while feeding; (ii) surface water when drinking; (iii) cave roofs and walls as roost habitat; (iv) tree canopy for roosting or feeding. From these four habitats, potential transmission routes to infect bats from other hosts can be inferred (Table 1 ). In the following sections, the different transmission pathways that can link potential alternative hosts to bats are listed and discussed, along with examples of these alternative hosts. \\n\\nFirstly, EBOV transmission to bats could occur through aerosol transmission in all four habitats. This means that the maintenance host would release, in bats' airspace, enough EBOV to contaminate bats. In theory, this would be possible in most bat environments, but we have discarded open-air transmission (e.g., in-flight bird to bat transmission) as the load of virus in the air cannot reach the levels that ensure infection. However, in the confined atmosphere of caves, bat to human transmission of rabies has been suspected [54] [55] [56] . EBOV and other filovirus particles seem to be able to persist for at least 90 min as aerosol [57, 71] , and experimental studies conducted on non-human primates (NHPs) by inoculating EBOV via the aerosol route were able to induce fatal disease 5 to 12 days post-inoculation [58] . Experimental airborne transmission of EBOV between animals from different species, e.g., from pigs to non-human primates, also seems possible [74] . In caves, the aerosol route might thus be possible. However, as bats tend to roost aggregated in groups and sometimes in large colonies, the ambient air may be saturated by bats' aerosols, rather than an alternative host. Air screening could be attempted in bat habitats but experimental aerosol transmission trials from alternative hosts to bats would be more efficient.\\n\\nBats are exposed to ectoparasitism [61] . If the biting invertebrate has previously bitten the alternative maintenance host, it could, in principle, infect bats. Hematophagous insects have been screened for EBOV during or after outbreaks with no conclusive results [26, 75] . However, absence of exposure during an outbreak does not mean that the host is not involved in the maintenance of the virus in-between outbreaks. For example, the process of amplification in disease ecology can involve different hosts than maintenance hosts. Little information is available on ticks in bats. Ticks have been suggested to be involved in the transmission of Crimean-Congo haemorrhagic fever-like viruses to bats [76] , and are seriously considered as potential hosts for the transmission of other pathogens from non-bat hosts to bats. Mosquitos could also be a vessel for a vector-borne transmission of EBOV. Studies on mosquito blood meals have revealed that mosquito could feed on bats and other mammals [62, 63] . Bat flies appear to be highly bat-specific, adapted to their lifestyle [77] [78] [79] [80] and are involved in the transmission of pathogens [64] . However, this specificity would preclude interspecies pathogen transmission. Ectoparasitism provides a potential solid source of indirect contacts between the alternative maintenance host and bats. This transmission pathway should be explored much further, and ecological insights, including insect and bat behavioural ecology, will be necessary to target the right insect species within the diversity of available biting species, in the right habitat (e.g., tree canopy level, caves' roofs, when bats are immobile) at a proper time (e.g., nocturnal behaviour of bats) and season, when both hosts (i.e., the maintenance host and bats) can be fed upon by the vector. To our knowledge, such targeted protocols have not been implemented so far.\\n\\nInsectivorous bats feed on insects that could be a source of EBOV [61] . This food-borne route has been little investigated as well. A recent study pointed out the role of insect-specific viruses in the evolution of numerous viral families, including mononegaviruses, which infect vertebrates [81] . There is a possibility that prey-insects are the maintenance host for EBOV [61] . Insect vectors, such as blood feeding insects (e.g., mosquitos) could also, in theory, transport viruses in their blood meal after a bite on an infected host. They have been suspected in other filovirus outbreaks in the past [82] . In theory, these insects preyed upon by bats could also link bats to any type of maintenance host they could feed on. Bats actively search for prey in many different habitats hosting hematophagous insects that feed on habitat-specific fauna. Moreover, Reiskind et al. suggested that blood fed female mosquitos are more susceptible to predation [66] . Leendertz et al. also suggested that the population dynamics of mayflies may act as a driver of EBOV emergence in mammals and humans [46] . Insectivorous bat diet analysis could, therefore, indicate the relative proportion of hematophagous insect fed upon by bats and their identity, in order to subsequently target these insect species for sampling.\\n\\nThe EBOV maintenance host could shed viable viruses in the environment where bats could get infected by environmental exposure. The most likely habitats where this can happen are tree canopies and holes, and cave roofs/walls used only by a fraction of hosts inhabiting forests. The probability of infection will be dependent on the capacity of the virus to survive in the environmental conditions available in the specific habitat. Therefore, a better understanding of the capacity of EBOV to survive under different biotic and abiotic conditions is important to explore further (e.g., [71, 73] ). These experimental approaches should consider the specific environmental conditions occurring in the tree canopy and cave roofs in terms of substrate, temperature, humidity and light properties.\\n\\nOne particular mechanism that has been put forward in the literature is the fruit-borne route concerning frugivorous bats in the tree canopy. The availability of fruits attracts fruit-eating animals, including birds, tree-dwelling mammals, and invertebrates. This behaviour can create a network of contacts between hosts, leading to several transmission pathways, and this interaction network can be denser during seasons with food resource limitations [23, 27] . Indirect contacts through faecal material, urine, or saliva left on fruits or branches could link the maintenance host with bats, in the same way that bats have been shown to be able to transmit other viruses (e.g., henipaviruses) through body fluids on fruit [33, 70, 83] . EBOV and filoviruses have been shown to persist for some time (3 to 7 days) in the environment, depending on the biotic and abiotic conditions [71] [72] [73] . In addition, EBV can be shed in some bat faeces [22] (but not all, [47] ), and have been cultured from human urine and saliva [51] , hence, could also be transmitted from faeces, urine, and saliva from other species. This transmission route is therefore possible, but restrained to the fauna feeding at the same height as bats (or, technically, above). The hypothesis of fruits soiled with infected body fluids falling on the ground and opening a transmission pathway towards other ground-level foraging hosts (e.g., duikers) does not expose bats to the alternative maintenance hosts (e.g., [83] ).\\n\\nA relation between river systems and EBOV outbreaks has been suggested in Central Africa, with tributaries influencing the spatial distribution of cases [84] . If river systems can harbour specific biotic communities with potential alternative hosts, such as water-dependent vectors [46] , they can also represent, in remote forest ecosystems, the main transport pathways for people, providing a means for pathogens to spread through infected people or their hunted animals. Of course, in principle, while drinking, bats could get infected if the virus is present at the surface of the water. The capacity of EBOV to survive in the water has been the focus of a recent experimental study reporting an EBOV survival in water of 4 to 7 days between 21 and 27 \\u2022 C [72] . Bats usually drink in open water, and not on the shores where viruses could be more concentrated by the presence of the maintenance host, for example. A dilution effect expected in open water, relative to some shallow water near the shores, would not favour such a transmission route a priori.\\n\\nTree and cave roosts could expose hanging and resting bats to direct contact with a potential maintenance host. However, as a first observation, the upside-down vertical position of bat roosting does not really favour disease transmission from an alternative host. For bat species roosting in tree-holes, the situation can be different as they can share temporally or directly their nest space with other animals [85] . Secondly, the density of bats roosting in caves prevents the presence of many other potential hosts in the cave roof (but, for example, snakes can predate on bats in caves). During their feeding behaviour, frugivorous bats could be in direct contact with other hosts attracted by the fruits. Their nocturnal habits will limit the diversity of host they can interact with. We are not aware of any extensive study on the network of potential contacts between bats and other animals during their roosting and feeding behaviour. The majority of studies investigated potential of infectious contact from bats to other organisms [53] . Novel technologies, such as camera traps equipped with nocturnal vision, could provide opportunities for more research on this topic.\\n\\nAs the ecology of most Africa bats is unknown, other opportunities exposing bat to potential maintenance hosts may be discovered in the future. For example, some bat species feed on fish [86] and, more recently, using stable isotopes of carbon and nitrogen as dietary tracers, it was demonstrated that a bat species, Nyctalus lasiopterus, was seasonally feeding on migrating Palearctic birds [87] , a feeding behaviour unknown until now. Failed predation on bats could also be a rare opportunity for infectious transmission [52] .\\n\\nConsidering the scenario B and C in Figure 1 , that bats are not the maintenance hosts of EBOV or that they are not the only host involved in the maintenance of EBOV, helps in focusing EBOV research protocols on a reduced range of potential transmission routes and potential alternative hosts interacting with bats in their specific and limited habitats. This means that if bats are not the maintenance hosts for EBOV, then there is only a limited number of candidate species to play the role of alternative maintenance hosts. This limited number of alternative maintenance hosts is defined by the ecology of bats that imposes on those alternative maintenance hosts only a few possible EBOV transmission pathways towards bats. From the biodiversity of African forest and the full web of interactions between species, a set of secondary hypotheses indicated in Table 1 can be tested through protocols presented to further investigate the role of different maintenance host candidates for EBOV. The observation of this limited number of hosts calls for testing them, even if only to exclude them from the list of hypotheses and strengthen the main hypothesis. As warned above, the EBOV multi-host maintenance system could include a complex network of interacting bat species ( Figure 1A2 ) and to proceed by elimination of alternative hypotheses may be a way to zoom-in on the maintenance community. The hypothesis of human playing a role in ebolavirus maintenance has not been addressed here, even if persistence of EBOV in previously infected humans has been recently proven [51] . This scenario would be more indicating of a change in the evolutionary trajectory of the pathogen (as moving from Step 4 to 5 in Figure 1 of Wolfe et al. [88] ) than of the natural maintenance of ebolaviruses that is considered here.\\n\\nIn order for these protocols to be efficient and well designed, insights from behavioural ecology, plant phenology, and molecular biology (amongst other disciplines) will be necessary. Integrated approaches to health have been proposed recently and, in EBOV ecology, they should promote the integration of ecological sciences into health sciences that are usually at the forefront of epidemiological investigations. For example, a lot of sampling of potential alternative hosts has been undertaken during ebolaviruses outbreaks (e.g., [12, [21] [22] [23] [24] [25] [26] ). These investigations concerned mainly the search for \\\"what transmits ebolaviruses to people\\\" as they were implemented during a human (or great ape) outbreak, and in the vicinity of outbreaks. This does not mean that they can automatically inform on \\\"what maintains ebolaviruses\\\". When looking for the maintenance host, investigations should also target the same and other alternative hosts during inter-outbreak periods with ecologically driven hypotheses. This is what is currently done for bats following the main maintenance hypothesis (e.g., [30] ), but not often for alternative hosts. Experimental trials should also concentrate on the environmental conditions occurring in bat-specific habitats, which can be very different from human outbreak conditions.\\n\\nThe transmission routes towards bats represent interhost contacts of unknown intensity and frequency, and it would be difficult to compare their relative importance. However, one can prioritize some transmission routes based on the current knowledge. The insect food-borne and vector-borne routes of transmission need, surely, to be further investigated, as they can expose bats to numerous other hosts. Previous works on insects have mainly concentrated on sampling insects in the human outbreaks' surroundings (e.g., [26] ). When searching for a maintenance host that can transmit EBOV to bats, protocols should concentrate on insects in interaction with known-exposed bat species. This would mean combining bat behavioural ecology and arthropod capture protocols to detect their potential carriage of EBOV, as well as protocols exploring bat feeding habits (e.g., molecular detection of prey DNA in bat's guano) [65, 67] . For example, insect captures should be targeted where insects can bite bats, in caves or at canopy level, and not at ground level where bats may not occur. Studying host interaction networks at fruit feeding sites is also an interesting avenue to explore direct, environmental, and fruit-borne routes of transmission. Behavioural ecology could inform and help targeting protocols. Chimpanzees and monkeys can feed at the same height as bats. Some rodent species feed on fruits, but the selection of the arboricolous species feeding at the same height as bats can reduce the list drastically. Camera trap protocols could inform host interaction networks placing bat species in symmetric or asymmetric interactions with other potential alternative hosts.\\n\\nUnder field reality, and especially in rainforests, this list of protocols will need a carefully designed programme to be successful, rooted in interdisciplinarity. As bats, and especially those species that have been exposed to ebolaviruses, are the entry point of most of these alternative hypotheses (i.e., alternative host need to be in contact with bats), the behavioural and community ecology of targeted bat species will need to be locally understood. Data recorders, such as vector or camera traps, will need to be deployed where bats are currently roosting or feeding. This can be a difficult task. Understanding which feeding resources attract bats at a specific season requires a good understanding of indigenous and domesticated tree phenology (e.g., [89] ). Prior to this work, a guano-based dietary analysis of the feeding behaviour of bats could help to map locally where and when bats will be present. Then, simultaneous protocols on bats and sympatric alternative hosts can be implemented, and a biological search for antibodies or antigens can be implemented. Combining protocols to test the main and alternative hypotheses could provide cost-effective and synergetic options.\\n\\nTo conclude, alternative hypotheses presented here should be explored alongside efforts to confirm bat species as maintenance hosts for EBOV. The ecology of those bat species already known to be exposed should be used to design protocols in order to target relevant alternative maintenance hosts. Given the number of species already involved/exposed to EBOV, the ecology of EBOV and its maintenance system can be expected to be complex, ecosystem dependent [46] , and dynamic, due to global changes [90] . The Ebola maintenance system, once isolated in the forests, is now interacting with humans and their modified environments and will adapt to it. Aiming at this moving target will require out-of-the-box thinking and interdisciplinary collaboration.\""
   ]
  },
  {
   "cell_type": "code",
   "execution_count": 7,
   "id": "47d0cce9",
   "metadata": {},
   "outputs": [
    {
     "data": {
      "text/plain": [
       "{'score': 0.999982476234436,\n",
       " 'start': 2270,\n",
       " 'end': 2299,\n",
       " 'answer': 'single-strand RNA filoviruses'}"
      ]
     },
     "execution_count": 7,
     "metadata": {},
     "output_type": "execute_result"
    }
   ],
   "source": [
    "# Question 2\n",
    "question = \"What is the structure of the Ebolavirus?\" # single-strand RNA filoviruses\n",
    "qa_pipeline(question=question, context=context)"
   ]
  },
  {
   "cell_type": "markdown",
   "id": "dce48269-eef3-4c41-bdb3-4382ef083cba",
   "metadata": {
    "tags": []
   },
   "source": [
    "## Push model to hub"
   ]
  },
  {
   "cell_type": "code",
   "execution_count": 4,
   "id": "3735a05b-0e15-4a21-be93-3761629c6753",
   "metadata": {
    "tags": []
   },
   "outputs": [
    {
     "data": {
      "application/vnd.jupyter.widget-view+json": {
       "model_id": "da6835db771f4b089063601c29a9e393",
       "version_major": 2,
       "version_minor": 0
      },
      "text/plain": [
       "VBox(children=(HTML(value='<center> <img\\nsrc=https://huggingface.co/front/assets/huggingface_logo-noborder.sv…"
      ]
     },
     "metadata": {},
     "output_type": "display_data"
    }
   ],
   "source": [
    "from huggingface_hub import notebook_login\n",
    "\n",
    "notebook_login()\n"
   ]
  },
  {
   "cell_type": "code",
   "execution_count": 9,
   "id": "a995cd00-d5fa-40bb-a211-cb56e6406e4f",
   "metadata": {
    "tags": []
   },
   "outputs": [
    {
     "data": {
      "application/vnd.jupyter.widget-view+json": {
       "model_id": "6cce442468b042e49bea795150c381bd",
       "version_major": 2,
       "version_minor": 0
      },
      "text/plain": [
       "model.safetensors:   0%|          | 0.00/1.42G [00:00<?, ?B/s]"
      ]
     },
     "metadata": {},
     "output_type": "display_data"
    },
    {
     "data": {
      "application/vnd.jupyter.widget-view+json": {
       "model_id": "e0c03e0f3f8a4eb7a11afdb7ba820464",
       "version_major": 2,
       "version_minor": 0
      },
      "text/plain": [
       "README.md:   0%|          | 0.00/16.9k [00:00<?, ?B/s]"
      ]
     },
     "metadata": {},
     "output_type": "display_data"
    },
    {
     "data": {
      "text/plain": [
       "CommitInfo(commit_url='https://huggingface.co/longluu/Medical-QA-gatortrons-COVID-QA/commit/73870b2816184e6a6dea7e81694e3f70efba7f81', commit_message='--per_device_train_batch_size 4 --learning_rate 3e-5 --num_train_epochs 2 --max_seq_length 512 --doc_stride 250 --max_answer_length 200', commit_description='', oid='73870b2816184e6a6dea7e81694e3f70efba7f81', pr_url=None, pr_revision=None, pr_num=None)"
      ]
     },
     "execution_count": 9,
     "metadata": {},
     "output_type": "execute_result"
    }
   ],
   "source": [
    "from transformers import AutoModelForQuestionAnswering, AutoConfig, AutoTokenizer\n",
    "\n",
    "# Load the model\n",
    "tokenizer = AutoTokenizer.from_pretrained('../models/COVID-QA/gatortrons/')\n",
    "model = AutoModelForQuestionAnswering.from_pretrained('../models/COVID-QA/gatortrons/')\n",
    "\n",
    "# Push the model to hub\n",
    "model.push_to_hub(\"longluu/Medical-QA-gatortrons-COVID-QA\", commit_message='--per_device_train_batch_size 4 --learning_rate 3e-5 --num_train_epochs 2 --max_seq_length 512 --doc_stride 250 --max_answer_length 200')\n",
    "tokenizer.push_to_hub(\"longluu/Medical-QA-gatortrons-COVID-QA\", commit_message='--per_device_train_batch_size 4 --learning_rate 3e-5 --num_train_epochs 2 --max_seq_length 512 --doc_stride 250 --max_answer_length 200')"
   ]
  },
  {
   "cell_type": "markdown",
   "id": "8bb2b8ab-7987-4b32-b7d2-f370e047c1e2",
   "metadata": {
    "tags": []
   },
   "source": [
    "## Push train results to hub"
   ]
  },
  {
   "cell_type": "code",
   "execution_count": 7,
   "id": "02f6a468-dfd6-445e-a49c-687866daef04",
   "metadata": {
    "tags": []
   },
   "outputs": [
    {
     "data": {
      "text/plain": [
       "CommitInfo(commit_url='https://huggingface.co/longluu/Medical-QA-gatortrons-COVID-QA/commit/9619f4855b463d5259c217caa6e10aa9f4467de2', commit_message='--per_device_train_batch_size 4 --learning_rate 3e-5 --num_train_epochs 2 --max_seq_length 512 --doc_stride 250 --max_answer_length 200', commit_description='', oid='9619f4855b463d5259c217caa6e10aa9f4467de2', pr_url=None, pr_revision=None, pr_num=None)"
      ]
     },
     "execution_count": 7,
     "metadata": {},
     "output_type": "execute_result"
    }
   ],
   "source": [
    "from huggingface_hub import HfApi\n",
    "api = HfApi()\n",
    "\n",
    "# Eval results\n",
    "api.upload_file(\n",
    "    path_or_fileobj=\"../models/COVID-QA/gatortrons/eval_results.json\",\n",
    "    path_in_repo=\"eval_results.json\",\n",
    "    repo_id=\"longluu/Medical-QA-gatortrons-COVID-QA\",\n",
    "    repo_type=\"model\",\n",
    "    commit_message='--per_device_train_batch_size 4 --learning_rate 3e-5 --num_train_epochs 2 --max_seq_length 512 --doc_stride 250 --max_answer_length 200'\n",
    ")\n",
    "\n",
    "# All results\n",
    "api.upload_file(\n",
    "    path_or_fileobj=\"../models/COVID-QA/gatortrons/all_results.json\",\n",
    "    path_in_repo=\"all_results.json\",\n",
    "    repo_id=\"longluu/Medical-QA-gatortrons-COVID-QA\",\n",
    "    repo_type=\"model\",\n",
    "    commit_message='--per_device_train_batch_size 4 --learning_rate 3e-5 --num_train_epochs 2 --max_seq_length 512 --doc_stride 250 --max_answer_length 200'\n",
    ")\n",
    "\n",
    "# Trainer state\n",
    "api.upload_file(\n",
    "    path_or_fileobj=\"../models/COVID-QA/gatortrons/trainer_state.json\",\n",
    "    path_in_repo=\"trainer_state.json\",\n",
    "    repo_id=\"longluu/Medical-QA-gatortrons-COVID-QA\",\n",
    "    repo_type=\"model\",\n",
    "    commit_message='--per_device_train_batch_size 4 --learning_rate 3e-5 --num_train_epochs 2 --max_seq_length 512 --doc_stride 250 --max_answer_length 200'\n",
    ")"
   ]
  },
  {
   "cell_type": "markdown",
   "id": "11396b41-7571-40d6-8dd2-3b41ac108f00",
   "metadata": {
    "tags": []
   },
   "source": [
    "# DeBerta trained on mrqa dataset"
   ]
  },
  {
   "cell_type": "markdown",
   "id": "51385516-4720-478b-9893-0dffae56a48f",
   "metadata": {
    "tags": []
   },
   "source": [
    "## Train the model"
   ]
  },
  {
   "cell_type": "code",
   "execution_count": null,
   "id": "8db025f3-dc23-4857-a6ca-64789e86ff5d",
   "metadata": {
    "tags": []
   },
   "outputs": [],
   "source": [
    "import logging\n",
    "logging.disable(logging.INFO) # disable INFO and DEBUG logging everywhere\n",
    "\n",
    "%run /home/ec2-user/SageMaker/Medical-QA-extractive/src/models/run_qa.py \\\n",
    "    --model_name_or_path 'VMware/deberta-v3-large-mrqa' \\\n",
    "    --dataset_name 'longluu/covid-qa-split' \\\n",
    "    --do_train \\\n",
    "    --do_eval\\\n",
    "    --per_device_train_batch_size 2 \\\n",
    "    --learning_rate 3e-5 \\\n",
    "    --num_train_epochs 3 \\\n",
    "    --max_seq_length 512 \\\n",
    "    --doc_stride 250 \\\n",
    "    --max_answer_length 200 \\\n",
    "    --output_dir \"/home/ec2-user/SageMaker/Medical-QA-extractive/models/COVID-QA/deberta/\" \\\n",
    "    --save_strategy \"epoch\""
   ]
  },
  {
   "cell_type": "markdown",
   "id": "a5831ecf-a2d2-4c74-98ba-2fcfb4d96744",
   "metadata": {
    "tags": []
   },
   "source": [
    "## Push model to hub"
   ]
  },
  {
   "cell_type": "code",
   "execution_count": 19,
   "id": "76f2121c-2cc7-481f-8627-faf011b931e1",
   "metadata": {
    "tags": []
   },
   "outputs": [
    {
     "data": {
      "application/vnd.jupyter.widget-view+json": {
       "model_id": "8e5783c5cab7490bae2e5e361c98a3ab",
       "version_major": 2,
       "version_minor": 0
      },
      "text/plain": [
       "VBox(children=(HTML(value='<center> <img\\nsrc=https://huggingface.co/front/assets/huggingface_logo-noborder.sv…"
      ]
     },
     "metadata": {},
     "output_type": "display_data"
    }
   ],
   "source": [
    "from huggingface_hub import notebook_login\n",
    "\n",
    "notebook_login()\n"
   ]
  },
  {
   "cell_type": "code",
   "execution_count": 20,
   "id": "f724b12d-1ec8-4420-b985-a3ed11adebfa",
   "metadata": {
    "tags": []
   },
   "outputs": [
    {
     "data": {
      "application/vnd.jupyter.widget-view+json": {
       "model_id": "5ffbabfa118a492d8dc85247172a6a34",
       "version_major": 2,
       "version_minor": 0
      },
      "text/plain": [
       "README.md:   0%|          | 0.00/21.0 [00:00<?, ?B/s]"
      ]
     },
     "metadata": {},
     "output_type": "display_data"
    },
    {
     "data": {
      "application/vnd.jupyter.widget-view+json": {
       "model_id": "ff5f4b4691794e1d886aea507a5ed3b0",
       "version_major": 2,
       "version_minor": 0
      },
      "text/plain": [
       "model.safetensors:   0%|          | 0.00/1.74G [00:00<?, ?B/s]"
      ]
     },
     "metadata": {},
     "output_type": "display_data"
    },
    {
     "data": {
      "text/plain": [
       "CommitInfo(commit_url='https://huggingface.co/longluu/Medical-QA-deberta-MRQA-COVID-QA/commit/c83f39bff0d11547e7b1be7060f2772069b14126', commit_message='--per_device_train_batch_size 2 --learning_rate 3e-5 --num_train_epochs 2 --max_seq_length 512 --doc_stride 250 --max_answer_length 200', commit_description='', oid='c83f39bff0d11547e7b1be7060f2772069b14126', pr_url=None, pr_revision=None, pr_num=None)"
      ]
     },
     "execution_count": 20,
     "metadata": {},
     "output_type": "execute_result"
    }
   ],
   "source": [
    "from transformers import AutoModelForQuestionAnswering, AutoConfig, AutoTokenizer\n",
    "\n",
    "# Load the model\n",
    "tokenizer = AutoTokenizer.from_pretrained('../models/COVID-QA/deberta/result-epoch-2')\n",
    "model = AutoModelForQuestionAnswering.from_pretrained('../models/COVID-QA/deberta/result-epoch-2')\n",
    "\n",
    "# Push the model to hub\n",
    "model.push_to_hub(\"longluu/Medical-QA-deberta-MRQA-COVID-QA\", commit_message='--per_device_train_batch_size 2 --learning_rate 3e-5 --num_train_epochs 2 --max_seq_length 512 --doc_stride 250 --max_answer_length 200')\n",
    "tokenizer.push_to_hub(\"longluu/Medical-QA-deberta-MRQA-COVID-QA\", commit_message='--per_device_train_batch_size 2 --learning_rate 3e-5 --num_train_epochs 2 --max_seq_length 512 --doc_stride 250 --max_answer_length 200')"
   ]
  },
  {
   "cell_type": "markdown",
   "id": "b149f07b-d2fb-4c7c-96c7-0baf47decb7f",
   "metadata": {
    "tags": []
   },
   "source": [
    "## Push train results to hub"
   ]
  },
  {
   "cell_type": "code",
   "execution_count": 22,
   "id": "423fb495-de11-41e0-8859-6e33142572d3",
   "metadata": {
    "tags": []
   },
   "outputs": [
    {
     "data": {
      "text/plain": [
       "CommitInfo(commit_url='https://huggingface.co/longluu/Medical-QA-deberta-MRQA-COVID-QA/commit/005a529598bf7409b80e76a11dc356ceb855da87', commit_message='--per_device_train_batch_size 2 --learning_rate 3e-5 --num_train_epochs 2 --max_seq_length 512 --doc_stride 250 --max_answer_length 200', commit_description='', oid='005a529598bf7409b80e76a11dc356ceb855da87', pr_url=None, pr_revision=None, pr_num=None)"
      ]
     },
     "execution_count": 22,
     "metadata": {},
     "output_type": "execute_result"
    }
   ],
   "source": [
    "from huggingface_hub import HfApi\n",
    "api = HfApi()\n",
    "\n",
    "# Eval results\n",
    "api.upload_file(\n",
    "    path_or_fileobj=\"../models/COVID-QA/deberta/result-epoch-2/eval_results.json\",\n",
    "    path_in_repo=\"eval_results.json\",\n",
    "    repo_id=\"longluu/Medical-QA-deberta-MRQA-COVID-QA\",\n",
    "    repo_type=\"model\",\n",
    "    commit_message='--per_device_train_batch_size 2 --learning_rate 3e-5 --num_train_epochs 2 --max_seq_length 512 --doc_stride 250 --max_answer_length 200'\n",
    ")\n",
    "\n",
    "# All results\n",
    "api.upload_file(\n",
    "    path_or_fileobj=\"../models/COVID-QA/deberta/result-epoch-2/all_results.json\",\n",
    "    path_in_repo=\"all_results.json\",\n",
    "    repo_id=\"longluu/Medical-QA-deberta-MRQA-COVID-QA\",\n",
    "    repo_type=\"model\",\n",
    "    commit_message='--per_device_train_batch_size 2 --learning_rate 3e-5 --num_train_epochs 2 --max_seq_length 512 --doc_stride 250 --max_answer_length 200'\n",
    ")\n",
    "\n",
    "# Trainer state\n",
    "api.upload_file(\n",
    "    path_or_fileobj=\"../models/COVID-QA/deberta/result-epoch-2/trainer_state.json\",\n",
    "    path_in_repo=\"trainer_state.json\",\n",
    "    repo_id=\"longluu/Medical-QA-deberta-MRQA-COVID-QA\",\n",
    "    repo_type=\"model\",\n",
    "    commit_message='--per_device_train_batch_size 2 --learning_rate 3e-5 --num_train_epochs 2 --max_seq_length 512 --doc_stride 250 --max_answer_length 200'\n",
    ")"
   ]
  },
  {
   "cell_type": "code",
   "execution_count": null,
   "id": "0d53f56b-543a-4387-bd10-75dc1c10eade",
   "metadata": {},
   "outputs": [],
   "source": []
  }
 ],
 "metadata": {
  "kernelspec": {
   "display_name": "venv",
   "language": "python",
   "name": "python3"
  },
  "language_info": {
   "codemirror_mode": {
    "name": "ipython",
    "version": 3
   },
   "file_extension": ".py",
   "mimetype": "text/x-python",
   "name": "python",
   "nbconvert_exporter": "python",
   "pygments_lexer": "ipython3",
   "version": "3.9.2"
  }
 },
 "nbformat": 4,
 "nbformat_minor": 5
}
