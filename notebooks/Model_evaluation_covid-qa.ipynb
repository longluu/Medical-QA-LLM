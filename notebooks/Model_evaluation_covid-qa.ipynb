{
 "cells": [
  {
   "cell_type": "markdown",
   "id": "96f1c2bf-26bd-4ef1-b70a-89c3096f121a",
   "metadata": {
    "tags": []
   },
   "source": [
    "# GatorTronS"
   ]
  },
  {
   "cell_type": "markdown",
   "id": "7cdbc7d5-156e-4cb6-96c8-99ae607d9ee8",
   "metadata": {
    "tags": []
   },
   "source": [
    "## Train the model"
   ]
  },
  {
   "cell_type": "code",
   "execution_count": null,
   "id": "137d364b-6ae7-487c-aa73-c25b0c516299",
   "metadata": {
    "tags": []
   },
   "outputs": [],
   "source": [
    "import logging\n",
    "logging.disable(logging.INFO) # disable INFO and DEBUG logging everywhere\n",
    "\n",
    "%run /home/ec2-user/SageMaker/Medical-QA-extractive/src/models/run_qa.py \\\n",
    "    --model_name_or_path 'UFNLP/gatortrons' \\\n",
    "    --dataset_name 'longluu/covid-qa-split' \\\n",
    "    --do_train \\\n",
    "    --do_eval\\\n",
    "    --per_device_train_batch_size 4 \\\n",
    "    --learning_rate 3e-5 \\\n",
    "    --num_train_epochs 2 \\\n",
    "    --max_seq_length 512 \\\n",
    "    --doc_stride 250 \\\n",
    "    --max_answer_length 200 \\\n",
    "    --output_dir \"/home/ec2-user/SageMaker/Medical-QA-extractive/models/COVID-QA/gatortrons/\" \\\n",
    "    --overwrite_output_dir"
   ]
  },
  {
   "cell_type": "markdown",
   "id": "d6c43020-bd3c-4ddd-bced-e1d83b9ca70c",
   "metadata": {},
   "source": [
    "## Evaluate the model"
   ]
  },
  {
   "cell_type": "code",
   "execution_count": 10,
   "id": "5460756b-e10b-43c3-ae3b-15c52d54beaa",
   "metadata": {
    "tags": []
   },
   "outputs": [
    {
     "name": "stdout",
     "output_type": "stream",
     "text": [
      "The device to run the model: cuda\n",
      "Load the pretrained model ...\n"
     ]
    },
    {
     "data": {
      "application/vnd.jupyter.widget-view+json": {
       "model_id": "90aeaf1fb8244386b6147394eed78777",
       "version_major": 2,
       "version_minor": 0
      },
      "text/plain": [
       "tokenizer_config.json:   0%|          | 0.00/1.46k [00:00<?, ?B/s]"
      ]
     },
     "metadata": {},
     "output_type": "display_data"
    },
    {
     "data": {
      "application/vnd.jupyter.widget-view+json": {
       "model_id": "a92522d195a6468296147aac5e516c81",
       "version_major": 2,
       "version_minor": 0
      },
      "text/plain": [
       "vocab.txt:   0%|          | 0.00/379k [00:00<?, ?B/s]"
      ]
     },
     "metadata": {},
     "output_type": "display_data"
    },
    {
     "data": {
      "application/vnd.jupyter.widget-view+json": {
       "model_id": "2cbb2a88a9ef4d95a1899cfefbb01224",
       "version_major": 2,
       "version_minor": 0
      },
      "text/plain": [
       "tokenizer.json:   0%|          | 0.00/1.17M [00:00<?, ?B/s]"
      ]
     },
     "metadata": {},
     "output_type": "display_data"
    },
    {
     "data": {
      "application/vnd.jupyter.widget-view+json": {
       "model_id": "26405f9606b54a6ab7aeb8c93bf0a55e",
       "version_major": 2,
       "version_minor": 0
      },
      "text/plain": [
       "special_tokens_map.json:   0%|          | 0.00/695 [00:00<?, ?B/s]"
      ]
     },
     "metadata": {},
     "output_type": "display_data"
    },
    {
     "data": {
      "application/vnd.jupyter.widget-view+json": {
       "model_id": "138087b774664ce4a20f0ff48b7607e6",
       "version_major": 2,
       "version_minor": 0
      },
      "text/plain": [
       "config.json:   0%|          | 0.00/680 [00:00<?, ?B/s]"
      ]
     },
     "metadata": {},
     "output_type": "display_data"
    },
    {
     "data": {
      "application/vnd.jupyter.widget-view+json": {
       "model_id": "ceed815376e14d0aa7eb85573ca31c8a",
       "version_major": 2,
       "version_minor": 0
      },
      "text/plain": [
       "model.safetensors:   0%|          | 0.00/1.42G [00:00<?, ?B/s]"
      ]
     },
     "metadata": {},
     "output_type": "display_data"
    },
    {
     "name": "stdout",
     "output_type": "stream",
     "text": [
      "The model has 354.220034millions parameters.\n",
      "Loading and preprocessing the dataset ...\n",
      "longluu/covid-qa-split\n"
     ]
    },
    {
     "data": {
      "text/html": [],
      "text/plain": [
       "<IPython.core.display.HTML object>"
      ]
     },
     "metadata": {},
     "output_type": "display_data"
    },
    {
     "data": {
      "application/vnd.jupyter.widget-view+json": {
       "model_id": "b89b5a9139444197b243356b52ee3508",
       "version_major": 2,
       "version_minor": 0
      },
      "text/plain": [
       "  0%|          | 0/202 [00:00<?, ?it/s]"
      ]
     },
     "metadata": {},
     "output_type": "display_data"
    },
    {
     "data": {
      "text/plain": [
       "{'exact_match': 37.12871287128713, 'f1': 64.92639883412856}"
      ]
     },
     "execution_count": 10,
     "metadata": {},
     "output_type": "execute_result"
    }
   ],
   "source": [
    "from src.models.evaluate_model import *\n",
    "\n",
    "model_evaluator = ModelEvaluator(model_name='longluu/Medical-QA-gatortrons-COVID-QA', dataset_name='longluu/covid-qa-split', max_length=512, doc_stride=250)\n",
    "score = model_evaluator.evaluate_model()\n",
    "score"
   ]
  },
  {
   "cell_type": "markdown",
   "id": "dce48269-eef3-4c41-bdb3-4382ef083cba",
   "metadata": {
    "tags": []
   },
   "source": [
    "## Push model to hub"
   ]
  },
  {
   "cell_type": "code",
   "execution_count": 4,
   "id": "3735a05b-0e15-4a21-be93-3761629c6753",
   "metadata": {
    "tags": []
   },
   "outputs": [
    {
     "data": {
      "application/vnd.jupyter.widget-view+json": {
       "model_id": "da6835db771f4b089063601c29a9e393",
       "version_major": 2,
       "version_minor": 0
      },
      "text/plain": [
       "VBox(children=(HTML(value='<center> <img\\nsrc=https://huggingface.co/front/assets/huggingface_logo-noborder.sv…"
      ]
     },
     "metadata": {},
     "output_type": "display_data"
    }
   ],
   "source": [
    "from huggingface_hub import notebook_login\n",
    "\n",
    "notebook_login()\n"
   ]
  },
  {
   "cell_type": "code",
   "execution_count": 9,
   "id": "a995cd00-d5fa-40bb-a211-cb56e6406e4f",
   "metadata": {
    "tags": []
   },
   "outputs": [
    {
     "data": {
      "application/vnd.jupyter.widget-view+json": {
       "model_id": "6cce442468b042e49bea795150c381bd",
       "version_major": 2,
       "version_minor": 0
      },
      "text/plain": [
       "model.safetensors:   0%|          | 0.00/1.42G [00:00<?, ?B/s]"
      ]
     },
     "metadata": {},
     "output_type": "display_data"
    },
    {
     "data": {
      "application/vnd.jupyter.widget-view+json": {
       "model_id": "e0c03e0f3f8a4eb7a11afdb7ba820464",
       "version_major": 2,
       "version_minor": 0
      },
      "text/plain": [
       "README.md:   0%|          | 0.00/16.9k [00:00<?, ?B/s]"
      ]
     },
     "metadata": {},
     "output_type": "display_data"
    },
    {
     "data": {
      "text/plain": [
       "CommitInfo(commit_url='https://huggingface.co/longluu/Medical-QA-gatortrons-COVID-QA/commit/73870b2816184e6a6dea7e81694e3f70efba7f81', commit_message='--per_device_train_batch_size 4 --learning_rate 3e-5 --num_train_epochs 2 --max_seq_length 512 --doc_stride 250 --max_answer_length 200', commit_description='', oid='73870b2816184e6a6dea7e81694e3f70efba7f81', pr_url=None, pr_revision=None, pr_num=None)"
      ]
     },
     "execution_count": 9,
     "metadata": {},
     "output_type": "execute_result"
    }
   ],
   "source": [
    "from transformers import AutoModelForQuestionAnswering, AutoConfig, AutoTokenizer\n",
    "\n",
    "# Load the model\n",
    "tokenizer = AutoTokenizer.from_pretrained('../models/COVID-QA/gatortrons/')\n",
    "model = AutoModelForQuestionAnswering.from_pretrained('../models/COVID-QA/gatortrons/')\n",
    "\n",
    "# Push the model to hub\n",
    "model.push_to_hub(\"longluu/Medical-QA-gatortrons-COVID-QA\", commit_message='--per_device_train_batch_size 4 --learning_rate 3e-5 --num_train_epochs 2 --max_seq_length 512 --doc_stride 250 --max_answer_length 200')\n",
    "tokenizer.push_to_hub(\"longluu/Medical-QA-gatortrons-COVID-QA\", commit_message='--per_device_train_batch_size 4 --learning_rate 3e-5 --num_train_epochs 2 --max_seq_length 512 --doc_stride 250 --max_answer_length 200')"
   ]
  },
  {
   "cell_type": "markdown",
   "id": "8bb2b8ab-7987-4b32-b7d2-f370e047c1e2",
   "metadata": {
    "jp-MarkdownHeadingCollapsed": true,
    "tags": []
   },
   "source": [
    "## Push train results to hub"
   ]
  },
  {
   "cell_type": "code",
   "execution_count": 7,
   "id": "02f6a468-dfd6-445e-a49c-687866daef04",
   "metadata": {
    "tags": []
   },
   "outputs": [
    {
     "data": {
      "text/plain": [
       "CommitInfo(commit_url='https://huggingface.co/longluu/Medical-QA-gatortrons-COVID-QA/commit/9619f4855b463d5259c217caa6e10aa9f4467de2', commit_message='--per_device_train_batch_size 4 --learning_rate 3e-5 --num_train_epochs 2 --max_seq_length 512 --doc_stride 250 --max_answer_length 200', commit_description='', oid='9619f4855b463d5259c217caa6e10aa9f4467de2', pr_url=None, pr_revision=None, pr_num=None)"
      ]
     },
     "execution_count": 7,
     "metadata": {},
     "output_type": "execute_result"
    }
   ],
   "source": [
    "from huggingface_hub import HfApi\n",
    "api = HfApi()\n",
    "\n",
    "# Eval results\n",
    "api.upload_file(\n",
    "    path_or_fileobj=\"../models/COVID-QA/gatortrons/eval_results.json\",\n",
    "    path_in_repo=\"eval_results.json\",\n",
    "    repo_id=\"longluu/Medical-QA-gatortrons-COVID-QA\",\n",
    "    repo_type=\"model\",\n",
    "    commit_message='--per_device_train_batch_size 4 --learning_rate 3e-5 --num_train_epochs 2 --max_seq_length 512 --doc_stride 250 --max_answer_length 200'\n",
    ")\n",
    "\n",
    "# All results\n",
    "api.upload_file(\n",
    "    path_or_fileobj=\"../models/COVID-QA/gatortrons/all_results.json\",\n",
    "    path_in_repo=\"all_results.json\",\n",
    "    repo_id=\"longluu/Medical-QA-gatortrons-COVID-QA\",\n",
    "    repo_type=\"model\",\n",
    "    commit_message='--per_device_train_batch_size 4 --learning_rate 3e-5 --num_train_epochs 2 --max_seq_length 512 --doc_stride 250 --max_answer_length 200'\n",
    ")\n",
    "\n",
    "# Trainer state\n",
    "api.upload_file(\n",
    "    path_or_fileobj=\"../models/COVID-QA/gatortrons/trainer_state.json\",\n",
    "    path_in_repo=\"trainer_state.json\",\n",
    "    repo_id=\"longluu/Medical-QA-gatortrons-COVID-QA\",\n",
    "    repo_type=\"model\",\n",
    "    commit_message='--per_device_train_batch_size 4 --learning_rate 3e-5 --num_train_epochs 2 --max_seq_length 512 --doc_stride 250 --max_answer_length 200'\n",
    ")"
   ]
  },
  {
   "cell_type": "markdown",
   "id": "11396b41-7571-40d6-8dd2-3b41ac108f00",
   "metadata": {},
   "source": [
    "# DeBerta"
   ]
  },
  {
   "cell_type": "code",
   "execution_count": null,
   "id": "8db025f3-dc23-4857-a6ca-64789e86ff5d",
   "metadata": {},
   "outputs": [],
   "source": []
  }
 ],
 "metadata": {
  "kernelspec": {
   "display_name": "Custom (Tutorial-LLM)",
   "language": "python",
   "name": "tutorial-llm"
  },
  "language_info": {
   "codemirror_mode": {
    "name": "ipython",
    "version": 3
   },
   "file_extension": ".py",
   "mimetype": "text/x-python",
   "name": "python",
   "nbconvert_exporter": "python",
   "pygments_lexer": "ipython3",
   "version": "3.9.2"
  }
 },
 "nbformat": 4,
 "nbformat_minor": 5
}
