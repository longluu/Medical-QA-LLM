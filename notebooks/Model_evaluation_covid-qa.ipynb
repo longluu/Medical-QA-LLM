{
 "cells": [
  {
   "cell_type": "markdown",
   "id": "96f1c2bf-26bd-4ef1-b70a-89c3096f121a",
   "metadata": {
    "jp-MarkdownHeadingCollapsed": true,
    "tags": []
   },
   "source": [
    "# GatorTronS"
   ]
  },
  {
   "cell_type": "markdown",
   "id": "7cdbc7d5-156e-4cb6-96c8-99ae607d9ee8",
   "metadata": {
    "tags": []
   },
   "source": [
    "## Train the model"
   ]
  },
  {
   "cell_type": "code",
   "execution_count": null,
   "id": "137d364b-6ae7-487c-aa73-c25b0c516299",
   "metadata": {
    "tags": []
   },
   "outputs": [],
   "source": [
    "import logging\n",
    "logging.disable(logging.INFO) # disable INFO and DEBUG logging everywhere\n",
    "\n",
    "%run /home/ec2-user/SageMaker/Medical-QA-extractive/src/models/run_qa.py \\\n",
    "    --model_name_or_path 'UFNLP/gatortrons' \\\n",
    "    --dataset_name 'longluu/covid-qa-split' \\\n",
    "    --do_train \\\n",
    "    --do_eval\\\n",
    "    --per_device_train_batch_size 4 \\\n",
    "    --learning_rate 3e-5 \\\n",
    "    --num_train_epochs 2 \\\n",
    "    --max_seq_length 512 \\\n",
    "    --doc_stride 250 \\\n",
    "    --max_answer_length 200 \\\n",
    "    --output_dir \"/home/ec2-user/SageMaker/Medical-QA-extractive/models/COVID-QA/gatortrons/\" \\\n",
    "    --overwrite_output_dir \\\n",
    "    --save_strategy \"epoch\""
   ]
  },
  {
   "cell_type": "markdown",
   "id": "d6c43020-bd3c-4ddd-bced-e1d83b9ca70c",
   "metadata": {},
   "source": [
    "## Evaluate the model"
   ]
  },
  {
   "cell_type": "code",
   "execution_count": 10,
   "id": "5460756b-e10b-43c3-ae3b-15c52d54beaa",
   "metadata": {
    "tags": []
   },
   "outputs": [
    {
     "name": "stdout",
     "output_type": "stream",
     "text": [
      "The device to run the model: cuda\n",
      "Load the pretrained model ...\n"
     ]
    },
    {
     "data": {
      "application/vnd.jupyter.widget-view+json": {
       "model_id": "90aeaf1fb8244386b6147394eed78777",
       "version_major": 2,
       "version_minor": 0
      },
      "text/plain": [
       "tokenizer_config.json:   0%|          | 0.00/1.46k [00:00<?, ?B/s]"
      ]
     },
     "metadata": {},
     "output_type": "display_data"
    },
    {
     "data": {
      "application/vnd.jupyter.widget-view+json": {
       "model_id": "a92522d195a6468296147aac5e516c81",
       "version_major": 2,
       "version_minor": 0
      },
      "text/plain": [
       "vocab.txt:   0%|          | 0.00/379k [00:00<?, ?B/s]"
      ]
     },
     "metadata": {},
     "output_type": "display_data"
    },
    {
     "data": {
      "application/vnd.jupyter.widget-view+json": {
       "model_id": "2cbb2a88a9ef4d95a1899cfefbb01224",
       "version_major": 2,
       "version_minor": 0
      },
      "text/plain": [
       "tokenizer.json:   0%|          | 0.00/1.17M [00:00<?, ?B/s]"
      ]
     },
     "metadata": {},
     "output_type": "display_data"
    },
    {
     "data": {
      "application/vnd.jupyter.widget-view+json": {
       "model_id": "26405f9606b54a6ab7aeb8c93bf0a55e",
       "version_major": 2,
       "version_minor": 0
      },
      "text/plain": [
       "special_tokens_map.json:   0%|          | 0.00/695 [00:00<?, ?B/s]"
      ]
     },
     "metadata": {},
     "output_type": "display_data"
    },
    {
     "data": {
      "application/vnd.jupyter.widget-view+json": {
       "model_id": "138087b774664ce4a20f0ff48b7607e6",
       "version_major": 2,
       "version_minor": 0
      },
      "text/plain": [
       "config.json:   0%|          | 0.00/680 [00:00<?, ?B/s]"
      ]
     },
     "metadata": {},
     "output_type": "display_data"
    },
    {
     "data": {
      "application/vnd.jupyter.widget-view+json": {
       "model_id": "ceed815376e14d0aa7eb85573ca31c8a",
       "version_major": 2,
       "version_minor": 0
      },
      "text/plain": [
       "model.safetensors:   0%|          | 0.00/1.42G [00:00<?, ?B/s]"
      ]
     },
     "metadata": {},
     "output_type": "display_data"
    },
    {
     "name": "stdout",
     "output_type": "stream",
     "text": [
      "The model has 354.220034millions parameters.\n",
      "Loading and preprocessing the dataset ...\n",
      "longluu/covid-qa-split\n"
     ]
    },
    {
     "data": {
      "text/html": [],
      "text/plain": [
       "<IPython.core.display.HTML object>"
      ]
     },
     "metadata": {},
     "output_type": "display_data"
    },
    {
     "data": {
      "application/vnd.jupyter.widget-view+json": {
       "model_id": "b89b5a9139444197b243356b52ee3508",
       "version_major": 2,
       "version_minor": 0
      },
      "text/plain": [
       "  0%|          | 0/202 [00:00<?, ?it/s]"
      ]
     },
     "metadata": {},
     "output_type": "display_data"
    },
    {
     "data": {
      "text/plain": [
       "{'exact_match': 37.12871287128713, 'f1': 64.92639883412856}"
      ]
     },
     "execution_count": 10,
     "metadata": {},
     "output_type": "execute_result"
    }
   ],
   "source": [
    "from src.models.evaluate_model import *\n",
    "\n",
    "model_evaluator = ModelEvaluator(model_name='longluu/Medical-QA-gatortrons-COVID-QA', dataset_name='longluu/covid-qa-split', max_length=512, doc_stride=250)\n",
    "score = model_evaluator.evaluate_model()\n",
    "score"
   ]
  },
  {
   "cell_type": "markdown",
   "id": "dce48269-eef3-4c41-bdb3-4382ef083cba",
   "metadata": {
    "tags": []
   },
   "source": [
    "## Push model to hub"
   ]
  },
  {
   "cell_type": "code",
   "execution_count": 4,
   "id": "3735a05b-0e15-4a21-be93-3761629c6753",
   "metadata": {
    "tags": []
   },
   "outputs": [
    {
     "data": {
      "application/vnd.jupyter.widget-view+json": {
       "model_id": "da6835db771f4b089063601c29a9e393",
       "version_major": 2,
       "version_minor": 0
      },
      "text/plain": [
       "VBox(children=(HTML(value='<center> <img\\nsrc=https://huggingface.co/front/assets/huggingface_logo-noborder.sv…"
      ]
     },
     "metadata": {},
     "output_type": "display_data"
    }
   ],
   "source": [
    "from huggingface_hub import notebook_login\n",
    "\n",
    "notebook_login()\n"
   ]
  },
  {
   "cell_type": "code",
   "execution_count": 9,
   "id": "a995cd00-d5fa-40bb-a211-cb56e6406e4f",
   "metadata": {
    "tags": []
   },
   "outputs": [
    {
     "data": {
      "application/vnd.jupyter.widget-view+json": {
       "model_id": "6cce442468b042e49bea795150c381bd",
       "version_major": 2,
       "version_minor": 0
      },
      "text/plain": [
       "model.safetensors:   0%|          | 0.00/1.42G [00:00<?, ?B/s]"
      ]
     },
     "metadata": {},
     "output_type": "display_data"
    },
    {
     "data": {
      "application/vnd.jupyter.widget-view+json": {
       "model_id": "e0c03e0f3f8a4eb7a11afdb7ba820464",
       "version_major": 2,
       "version_minor": 0
      },
      "text/plain": [
       "README.md:   0%|          | 0.00/16.9k [00:00<?, ?B/s]"
      ]
     },
     "metadata": {},
     "output_type": "display_data"
    },
    {
     "data": {
      "text/plain": [
       "CommitInfo(commit_url='https://huggingface.co/longluu/Medical-QA-gatortrons-COVID-QA/commit/73870b2816184e6a6dea7e81694e3f70efba7f81', commit_message='--per_device_train_batch_size 4 --learning_rate 3e-5 --num_train_epochs 2 --max_seq_length 512 --doc_stride 250 --max_answer_length 200', commit_description='', oid='73870b2816184e6a6dea7e81694e3f70efba7f81', pr_url=None, pr_revision=None, pr_num=None)"
      ]
     },
     "execution_count": 9,
     "metadata": {},
     "output_type": "execute_result"
    }
   ],
   "source": [
    "from transformers import AutoModelForQuestionAnswering, AutoConfig, AutoTokenizer\n",
    "\n",
    "# Load the model\n",
    "tokenizer = AutoTokenizer.from_pretrained('../models/COVID-QA/gatortrons/')\n",
    "model = AutoModelForQuestionAnswering.from_pretrained('../models/COVID-QA/gatortrons/')\n",
    "\n",
    "# Push the model to hub\n",
    "model.push_to_hub(\"longluu/Medical-QA-gatortrons-COVID-QA\", commit_message='--per_device_train_batch_size 4 --learning_rate 3e-5 --num_train_epochs 2 --max_seq_length 512 --doc_stride 250 --max_answer_length 200')\n",
    "tokenizer.push_to_hub(\"longluu/Medical-QA-gatortrons-COVID-QA\", commit_message='--per_device_train_batch_size 4 --learning_rate 3e-5 --num_train_epochs 2 --max_seq_length 512 --doc_stride 250 --max_answer_length 200')"
   ]
  },
  {
   "cell_type": "markdown",
   "id": "8bb2b8ab-7987-4b32-b7d2-f370e047c1e2",
   "metadata": {
    "tags": []
   },
   "source": [
    "## Push train results to hub"
   ]
  },
  {
   "cell_type": "code",
   "execution_count": 7,
   "id": "02f6a468-dfd6-445e-a49c-687866daef04",
   "metadata": {
    "tags": []
   },
   "outputs": [
    {
     "data": {
      "text/plain": [
       "CommitInfo(commit_url='https://huggingface.co/longluu/Medical-QA-gatortrons-COVID-QA/commit/9619f4855b463d5259c217caa6e10aa9f4467de2', commit_message='--per_device_train_batch_size 4 --learning_rate 3e-5 --num_train_epochs 2 --max_seq_length 512 --doc_stride 250 --max_answer_length 200', commit_description='', oid='9619f4855b463d5259c217caa6e10aa9f4467de2', pr_url=None, pr_revision=None, pr_num=None)"
      ]
     },
     "execution_count": 7,
     "metadata": {},
     "output_type": "execute_result"
    }
   ],
   "source": [
    "from huggingface_hub import HfApi\n",
    "api = HfApi()\n",
    "\n",
    "# Eval results\n",
    "api.upload_file(\n",
    "    path_or_fileobj=\"../models/COVID-QA/gatortrons/eval_results.json\",\n",
    "    path_in_repo=\"eval_results.json\",\n",
    "    repo_id=\"longluu/Medical-QA-gatortrons-COVID-QA\",\n",
    "    repo_type=\"model\",\n",
    "    commit_message='--per_device_train_batch_size 4 --learning_rate 3e-5 --num_train_epochs 2 --max_seq_length 512 --doc_stride 250 --max_answer_length 200'\n",
    ")\n",
    "\n",
    "# All results\n",
    "api.upload_file(\n",
    "    path_or_fileobj=\"../models/COVID-QA/gatortrons/all_results.json\",\n",
    "    path_in_repo=\"all_results.json\",\n",
    "    repo_id=\"longluu/Medical-QA-gatortrons-COVID-QA\",\n",
    "    repo_type=\"model\",\n",
    "    commit_message='--per_device_train_batch_size 4 --learning_rate 3e-5 --num_train_epochs 2 --max_seq_length 512 --doc_stride 250 --max_answer_length 200'\n",
    ")\n",
    "\n",
    "# Trainer state\n",
    "api.upload_file(\n",
    "    path_or_fileobj=\"../models/COVID-QA/gatortrons/trainer_state.json\",\n",
    "    path_in_repo=\"trainer_state.json\",\n",
    "    repo_id=\"longluu/Medical-QA-gatortrons-COVID-QA\",\n",
    "    repo_type=\"model\",\n",
    "    commit_message='--per_device_train_batch_size 4 --learning_rate 3e-5 --num_train_epochs 2 --max_seq_length 512 --doc_stride 250 --max_answer_length 200'\n",
    ")"
   ]
  },
  {
   "cell_type": "markdown",
   "id": "11396b41-7571-40d6-8dd2-3b41ac108f00",
   "metadata": {},
   "source": [
    "# DeBerta trained on mrqa dataset"
   ]
  },
  {
   "cell_type": "markdown",
   "id": "51385516-4720-478b-9893-0dffae56a48f",
   "metadata": {
    "tags": []
   },
   "source": [
    "## Train the model"
   ]
  },
  {
   "cell_type": "code",
   "execution_count": null,
   "id": "8db025f3-dc23-4857-a6ca-64789e86ff5d",
   "metadata": {
    "tags": []
   },
   "outputs": [],
   "source": [
    "import logging\n",
    "logging.disable(logging.INFO) # disable INFO and DEBUG logging everywhere\n",
    "\n",
    "%run /home/ec2-user/SageMaker/Medical-QA-extractive/src/models/run_qa.py \\\n",
    "    --model_name_or_path 'VMware/deberta-v3-large-mrqa' \\\n",
    "    --dataset_name 'longluu/covid-qa-split' \\\n",
    "    --do_train \\\n",
    "    --do_eval\\\n",
    "    --per_device_train_batch_size 2 \\\n",
    "    --learning_rate 3e-5 \\\n",
    "    --num_train_epochs 3 \\\n",
    "    --max_seq_length 512 \\\n",
    "    --doc_stride 250 \\\n",
    "    --max_answer_length 200 \\\n",
    "    --output_dir \"/home/ec2-user/SageMaker/Medical-QA-extractive/models/COVID-QA/deberta/\" \\\n",
    "    --save_strategy \"epoch\""
   ]
  },
  {
   "cell_type": "markdown",
   "id": "370031f3-84d5-4173-8da8-7c7871010f73",
   "metadata": {},
   "source": [
    "## Evaluate the model"
   ]
  },
  {
   "cell_type": "code",
   "execution_count": 23,
   "id": "9bbd36a0-ca95-4c6a-9cf5-5a4fb1759b5a",
   "metadata": {
    "tags": []
   },
   "outputs": [
    {
     "name": "stdout",
     "output_type": "stream",
     "text": [
      "The device to run the model: cuda\n",
      "Load the pretrained model ...\n",
      "The model has 434.01421millions parameters.\n",
      "Loading and preprocessing the dataset ...\n",
      "longluu/covid-qa-split\n"
     ]
    },
    {
     "data": {
      "application/vnd.jupyter.widget-view+json": {
       "model_id": "d9a7bdd4743a4e3eb0d8c8a4e2ed2435",
       "version_major": 2,
       "version_minor": 0
      },
      "text/plain": [
       "Map:   0%|          | 0/1817 [00:00<?, ? examples/s]"
      ]
     },
     "metadata": {},
     "output_type": "display_data"
    },
    {
     "data": {
      "application/vnd.jupyter.widget-view+json": {
       "model_id": "2bbe375a0ccc4a628ef644bfd7238e42",
       "version_major": 2,
       "version_minor": 0
      },
      "text/plain": [
       "Map:   0%|          | 0/202 [00:00<?, ? examples/s]"
      ]
     },
     "metadata": {},
     "output_type": "display_data"
    },
    {
     "data": {
      "application/vnd.jupyter.widget-view+json": {
       "model_id": "4e72c16bec474636aeafb6ff91592993",
       "version_major": 2,
       "version_minor": 0
      },
      "text/plain": [
       "Map:   0%|          | 0/202 [00:00<?, ? examples/s]"
      ]
     },
     "metadata": {},
     "output_type": "display_data"
    },
    {
     "data": {
      "text/html": [],
      "text/plain": [
       "<IPython.core.display.HTML object>"
      ]
     },
     "metadata": {},
     "output_type": "display_data"
    },
    {
     "data": {
      "application/vnd.jupyter.widget-view+json": {
       "model_id": "89972c522b464441aed7637e6141d033",
       "version_major": 2,
       "version_minor": 0
      },
      "text/plain": [
       "  0%|          | 0/202 [00:00<?, ?it/s]"
      ]
     },
     "metadata": {},
     "output_type": "display_data"
    },
    {
     "data": {
      "text/plain": [
       "{'exact_match': 31.683168316831683, 'f1': 60.80738674733328}"
      ]
     },
     "execution_count": 23,
     "metadata": {},
     "output_type": "execute_result"
    }
   ],
   "source": [
    "from src.models.evaluate_model import *\n",
    "\n",
    "# First evaluate the model before fine-tuning\n",
    "model_evaluator = ModelEvaluator(model_name='VMware/deberta-v3-large-mrqa', dataset_name='longluu/covid-qa-split', \n",
    "                                 max_length=512, doc_stride=250)\n",
    "score = model_evaluator.evaluate_model()\n",
    "score"
   ]
  },
  {
   "cell_type": "code",
   "execution_count": null,
   "id": "eff84a9f-90fb-4514-ab7d-f55f3874172a",
   "metadata": {
    "tags": []
   },
   "outputs": [],
   "source": [
    "import os\n",
    "import json\n",
    "from src.models.evaluate_model import *\n",
    "\n",
    "# Get all checkpoint folder names\n",
    "root_dir = \"../models/COVID-QA/deberta/\"\n",
    "dir_list = [os.path.join(root_dir, item) for item in os.listdir(root_dir) if os.path.isdir(os.path.join(root_dir, item)) \\\n",
    "                                                    and 'checkpoint-' in item]\n",
    "\n",
    "# Get the score for each checkpoint\n",
    "eval_exact_match = []\n",
    "eval_f1 = []\n",
    "train_loss = []\n",
    "for dir_path in dir_list:\n",
    "    # Get the evaluation scores\n",
    "    model_evaluator = ModelEvaluator(model_name=dir_path, dataset_name='longluu/covid-qa-split', max_length=512, doc_stride=250)\n",
    "    score = model_evaluator.evaluate_model()\n",
    "    eval_exact_match.append(score['exact_match'])\n",
    "    eval_f1.append(score['f1'])\n",
    "    \n",
    "    # Get the training loss\n",
    "    f = open(dir_path + '/trainer_state.json')\n",
    "    data = json.load(f)\n",
    "    train_loss.append(data['log_history'][-1]['loss'])"
   ]
  },
  {
   "cell_type": "code",
   "execution_count": 18,
   "id": "e2adc95f-e917-452f-9275-cf54b862dbab",
   "metadata": {
    "tags": []
   },
   "outputs": [
    {
     "data": {
      "text/html": [
       "<div>\n",
       "<style scoped>\n",
       "    .dataframe tbody tr th:only-of-type {\n",
       "        vertical-align: middle;\n",
       "    }\n",
       "\n",
       "    .dataframe tbody tr th {\n",
       "        vertical-align: top;\n",
       "    }\n",
       "\n",
       "    .dataframe thead th {\n",
       "        text-align: right;\n",
       "    }\n",
       "</style>\n",
       "<table border=\"1\" class=\"dataframe\">\n",
       "  <thead>\n",
       "    <tr style=\"text-align: right;\">\n",
       "      <th></th>\n",
       "      <th>epoch</th>\n",
       "      <th>train_loss</th>\n",
       "      <th>eval_exact_match</th>\n",
       "      <th>eval_f1</th>\n",
       "    </tr>\n",
       "  </thead>\n",
       "  <tbody>\n",
       "    <tr>\n",
       "      <th>0</th>\n",
       "      <td>1</td>\n",
       "      <td>0.3149</td>\n",
       "      <td>33.168317</td>\n",
       "      <td>58.727166</td>\n",
       "    </tr>\n",
       "    <tr>\n",
       "      <th>1</th>\n",
       "      <td>2</td>\n",
       "      <td>0.1673</td>\n",
       "      <td>34.653465</td>\n",
       "      <td>58.858354</td>\n",
       "    </tr>\n",
       "    <tr>\n",
       "      <th>2</th>\n",
       "      <td>3</td>\n",
       "      <td>0.0657</td>\n",
       "      <td>34.158416</td>\n",
       "      <td>59.128222</td>\n",
       "    </tr>\n",
       "  </tbody>\n",
       "</table>\n",
       "</div>"
      ],
      "text/plain": [
       "   epoch  train_loss  eval_exact_match    eval_f1\n",
       "0      1      0.3149         33.168317  58.727166\n",
       "1      2      0.1673         34.653465  58.858354\n",
       "2      3      0.0657         34.158416  59.128222"
      ]
     },
     "execution_count": 18,
     "metadata": {},
     "output_type": "execute_result"
    }
   ],
   "source": [
    "# Put results in dataframe\n",
    "epoch = [iteration+1 for iteration in range(len(dir_list))]\n",
    "df_result = pd.DataFrame(columns=['epoch', 'train_loss', 'eval_exact_match', 'eval_f1'])\n",
    "df_result['epoch'] = epoch\n",
    "df_result['train_loss'] = train_loss\n",
    "df_result['eval_exact_match'] = eval_exact_match\n",
    "df_result['eval_f1'] = eval_f1     \n",
    "df_result                         "
   ]
  },
  {
   "cell_type": "markdown",
   "id": "a5831ecf-a2d2-4c74-98ba-2fcfb4d96744",
   "metadata": {
    "tags": []
   },
   "source": [
    "## Push model to hub"
   ]
  },
  {
   "cell_type": "code",
   "execution_count": 19,
   "id": "76f2121c-2cc7-481f-8627-faf011b931e1",
   "metadata": {
    "tags": []
   },
   "outputs": [
    {
     "data": {
      "application/vnd.jupyter.widget-view+json": {
       "model_id": "8e5783c5cab7490bae2e5e361c98a3ab",
       "version_major": 2,
       "version_minor": 0
      },
      "text/plain": [
       "VBox(children=(HTML(value='<center> <img\\nsrc=https://huggingface.co/front/assets/huggingface_logo-noborder.sv…"
      ]
     },
     "metadata": {},
     "output_type": "display_data"
    }
   ],
   "source": [
    "from huggingface_hub import notebook_login\n",
    "\n",
    "notebook_login()\n"
   ]
  },
  {
   "cell_type": "code",
   "execution_count": 20,
   "id": "f724b12d-1ec8-4420-b985-a3ed11adebfa",
   "metadata": {
    "tags": []
   },
   "outputs": [
    {
     "data": {
      "application/vnd.jupyter.widget-view+json": {
       "model_id": "5ffbabfa118a492d8dc85247172a6a34",
       "version_major": 2,
       "version_minor": 0
      },
      "text/plain": [
       "README.md:   0%|          | 0.00/21.0 [00:00<?, ?B/s]"
      ]
     },
     "metadata": {},
     "output_type": "display_data"
    },
    {
     "data": {
      "application/vnd.jupyter.widget-view+json": {
       "model_id": "ff5f4b4691794e1d886aea507a5ed3b0",
       "version_major": 2,
       "version_minor": 0
      },
      "text/plain": [
       "model.safetensors:   0%|          | 0.00/1.74G [00:00<?, ?B/s]"
      ]
     },
     "metadata": {},
     "output_type": "display_data"
    },
    {
     "data": {
      "text/plain": [
       "CommitInfo(commit_url='https://huggingface.co/longluu/Medical-QA-deberta-MRQA-COVID-QA/commit/c83f39bff0d11547e7b1be7060f2772069b14126', commit_message='--per_device_train_batch_size 2 --learning_rate 3e-5 --num_train_epochs 2 --max_seq_length 512 --doc_stride 250 --max_answer_length 200', commit_description='', oid='c83f39bff0d11547e7b1be7060f2772069b14126', pr_url=None, pr_revision=None, pr_num=None)"
      ]
     },
     "execution_count": 20,
     "metadata": {},
     "output_type": "execute_result"
    }
   ],
   "source": [
    "from transformers import AutoModelForQuestionAnswering, AutoConfig, AutoTokenizer\n",
    "\n",
    "# Load the model\n",
    "tokenizer = AutoTokenizer.from_pretrained('../models/COVID-QA/deberta/result-epoch-2')\n",
    "model = AutoModelForQuestionAnswering.from_pretrained('../models/COVID-QA/deberta/result-epoch-2')\n",
    "\n",
    "# Push the model to hub\n",
    "model.push_to_hub(\"longluu/Medical-QA-deberta-MRQA-COVID-QA\", commit_message='--per_device_train_batch_size 2 --learning_rate 3e-5 --num_train_epochs 2 --max_seq_length 512 --doc_stride 250 --max_answer_length 200')\n",
    "tokenizer.push_to_hub(\"longluu/Medical-QA-deberta-MRQA-COVID-QA\", commit_message='--per_device_train_batch_size 2 --learning_rate 3e-5 --num_train_epochs 2 --max_seq_length 512 --doc_stride 250 --max_answer_length 200')"
   ]
  },
  {
   "cell_type": "markdown",
   "id": "b149f07b-d2fb-4c7c-96c7-0baf47decb7f",
   "metadata": {
    "tags": []
   },
   "source": [
    "## Push train results to hub"
   ]
  },
  {
   "cell_type": "code",
   "execution_count": 22,
   "id": "423fb495-de11-41e0-8859-6e33142572d3",
   "metadata": {
    "tags": []
   },
   "outputs": [
    {
     "data": {
      "text/plain": [
       "CommitInfo(commit_url='https://huggingface.co/longluu/Medical-QA-deberta-MRQA-COVID-QA/commit/005a529598bf7409b80e76a11dc356ceb855da87', commit_message='--per_device_train_batch_size 2 --learning_rate 3e-5 --num_train_epochs 2 --max_seq_length 512 --doc_stride 250 --max_answer_length 200', commit_description='', oid='005a529598bf7409b80e76a11dc356ceb855da87', pr_url=None, pr_revision=None, pr_num=None)"
      ]
     },
     "execution_count": 22,
     "metadata": {},
     "output_type": "execute_result"
    }
   ],
   "source": [
    "from huggingface_hub import HfApi\n",
    "api = HfApi()\n",
    "\n",
    "# Eval results\n",
    "api.upload_file(\n",
    "    path_or_fileobj=\"../models/COVID-QA/deberta/result-epoch-2/eval_results.json\",\n",
    "    path_in_repo=\"eval_results.json\",\n",
    "    repo_id=\"longluu/Medical-QA-deberta-MRQA-COVID-QA\",\n",
    "    repo_type=\"model\",\n",
    "    commit_message='--per_device_train_batch_size 2 --learning_rate 3e-5 --num_train_epochs 2 --max_seq_length 512 --doc_stride 250 --max_answer_length 200'\n",
    ")\n",
    "\n",
    "# All results\n",
    "api.upload_file(\n",
    "    path_or_fileobj=\"../models/COVID-QA/deberta/result-epoch-2/all_results.json\",\n",
    "    path_in_repo=\"all_results.json\",\n",
    "    repo_id=\"longluu/Medical-QA-deberta-MRQA-COVID-QA\",\n",
    "    repo_type=\"model\",\n",
    "    commit_message='--per_device_train_batch_size 2 --learning_rate 3e-5 --num_train_epochs 2 --max_seq_length 512 --doc_stride 250 --max_answer_length 200'\n",
    ")\n",
    "\n",
    "# Trainer state\n",
    "api.upload_file(\n",
    "    path_or_fileobj=\"../models/COVID-QA/deberta/result-epoch-2/trainer_state.json\",\n",
    "    path_in_repo=\"trainer_state.json\",\n",
    "    repo_id=\"longluu/Medical-QA-deberta-MRQA-COVID-QA\",\n",
    "    repo_type=\"model\",\n",
    "    commit_message='--per_device_train_batch_size 2 --learning_rate 3e-5 --num_train_epochs 2 --max_seq_length 512 --doc_stride 250 --max_answer_length 200'\n",
    ")"
   ]
  },
  {
   "cell_type": "code",
   "execution_count": null,
   "id": "0d53f56b-543a-4387-bd10-75dc1c10eade",
   "metadata": {},
   "outputs": [],
   "source": []
  }
 ],
 "metadata": {
  "kernelspec": {
   "display_name": "Custom (Tutorial-LLM)",
   "language": "python",
   "name": "tutorial-llm"
  },
  "language_info": {
   "codemirror_mode": {
    "name": "ipython",
    "version": 3
   },
   "file_extension": ".py",
   "mimetype": "text/x-python",
   "name": "python",
   "nbconvert_exporter": "python",
   "pygments_lexer": "ipython3",
   "version": "3.9.2"
  }
 },
 "nbformat": 4,
 "nbformat_minor": 5
}
