{
 "cells": [
  {
   "cell_type": "markdown",
   "metadata": {},
   "source": [
    "## Test Flan T5 model on COVID-QA"
   ]
  },
  {
   "cell_type": "code",
   "execution_count": null,
   "metadata": {},
   "outputs": [],
   "source": [
    "from transformers import T5Tokenizer, T5ForConditionalGeneration\n",
    "\n",
    "# Load model\n",
    "tokenizer = T5Tokenizer.from_pretrained(\"google/flan-t5-large\")\n",
    "model = T5ForConditionalGeneration.from_pretrained(\"google/flan-t5-large\", device_map=\"auto\")"
   ]
  },
  {
   "cell_type": "code",
   "execution_count": null,
   "metadata": {},
   "outputs": [],
   "source": [
    "input_text = \"How many children were infected by HIV-1 in 2008-2009, worldwide?\"#more than 400,000 children were infected worldwide, mostly through MTCT and 90% of them lived in sub-Saharan Africa.\n",
    "input_ids = tokenizer(input_text, return_tensors=\"pt\").input_ids.to(\"cuda\")\n",
    "outputs = model.generate(input_ids, num_beams=1, do_sample=False, max_new_tokens=200)\n",
    "print(tokenizer.decode(outputs[0]))"
   ]
  },
  {
   "cell_type": "code",
   "execution_count": null,
   "metadata": {},
   "outputs": [],
   "source": [
    "input_text = \"What is the main cause of HIV-1 infection in children?\"#Mother-to-child transmission (MTCT) is the main cause of HIV-1 infection in children worldwide.\n",
    "input_ids = tokenizer(input_text, return_tensors=\"pt\").input_ids.to(\"cuda\")\n",
    "outputs = model.generate(input_ids, num_beams=1, do_sample=False, max_new_tokens=200)\n",
    "print(tokenizer.decode(outputs[0]))"
   ]
  },
  {
   "cell_type": "code",
   "execution_count": null,
   "metadata": {},
   "outputs": [],
   "source": [
    "input_text = \"What is the structure of the Ebolavirus?\"# single-strand RNA filoviruses\n",
    "input_ids = tokenizer(input_text, return_tensors=\"pt\").input_ids.to(\"cuda\")\n",
    "outputs = model.generate(input_ids, num_beams=1, do_sample=False, max_new_tokens=200)\n",
    "print(tokenizer.decode(outputs[0]))"
   ]
  },
  {
   "cell_type": "markdown",
   "metadata": {},
   "source": [
    "## Test Llama-2-7b-chat-hf model on COVID-QA"
   ]
  },
  {
   "cell_type": "code",
   "execution_count": null,
   "metadata": {},
   "outputs": [],
   "source": [
    "from huggingface_hub import login\n",
    "login()"
   ]
  },
  {
   "cell_type": "code",
   "execution_count": 1,
   "metadata": {},
   "outputs": [
    {
     "name": "stderr",
     "output_type": "stream",
     "text": [
      "c:\\Users\\thelo\\Medical-QA-LLM\\venv\\lib\\site-packages\\huggingface_hub\\file_download.py:797: FutureWarning: `resume_download` is deprecated and will be removed in version 1.0.0. Downloads always resume when possible. If you want to force a new download, use `force_download=True`.\n",
      "  warnings.warn(\n"
     ]
    },
    {
     "data": {
      "application/vnd.jupyter.widget-view+json": {
       "model_id": "80c7e981e924478a9512b85a42a6ae5c",
       "version_major": 2,
       "version_minor": 0
      },
      "text/plain": [
       "Loading checkpoint shards:   0%|          | 0/2 [00:00<?, ?it/s]"
      ]
     },
     "metadata": {},
     "output_type": "display_data"
    },
    {
     "name": "stderr",
     "output_type": "stream",
     "text": [
      "c:\\Users\\thelo\\Medical-QA-LLM\\venv\\lib\\site-packages\\huggingface_hub\\file_download.py:797: FutureWarning: `resume_download` is deprecated and will be removed in version 1.0.0. Downloads always resume when possible. If you want to force a new download, use `force_download=True`.\n",
      "  warnings.warn(\n"
     ]
    },
    {
     "data": {
      "application/vnd.jupyter.widget-view+json": {
       "model_id": "2a3330f4baaf49c6815b8efc3e946d79",
       "version_major": 2,
       "version_minor": 0
      },
      "text/plain": [
       "generation_config.json:   0%|          | 0.00/188 [00:00<?, ?B/s]"
      ]
     },
     "metadata": {},
     "output_type": "display_data"
    },
    {
     "name": "stderr",
     "output_type": "stream",
     "text": [
      "c:\\Users\\thelo\\Medical-QA-LLM\\venv\\lib\\site-packages\\huggingface_hub\\file_download.py:139: UserWarning: `huggingface_hub` cache-system uses symlinks by default to efficiently store duplicated files but your machine does not support them in C:\\Users\\thelo\\.cache\\huggingface\\hub\\models--meta-llama--Llama-2-7b-chat-hf. Caching files will still work but in a degraded version that might require more space on your disk. This warning can be disabled by setting the `HF_HUB_DISABLE_SYMLINKS_WARNING` environment variable. For more details, see https://huggingface.co/docs/huggingface_hub/how-to-cache#limitations.\n",
      "To support symlinks on Windows, you either need to activate Developer Mode or to run Python as an administrator. In order to activate developer mode, see this article: https://docs.microsoft.com/en-us/windows/apps/get-started/enable-your-device-for-development\n",
      "  warnings.warn(message)\n",
      "WARNING:root:Some parameters are on the meta device device because they were offloaded to the cpu.\n"
     ]
    }
   ],
   "source": [
    "from transformers import AutoTokenizer, AutoModelForCausalLM\n",
    "import torch\n",
    "# Load the tokenizer and model\n",
    "tokenizer = AutoTokenizer.from_pretrained(\"meta-llama/Llama-2-7b-chat-hf\")\n",
    "model = AutoModelForCausalLM.from_pretrained(\"meta-llama/Llama-2-7b-chat-hf\",\n",
    "                                             device_map=\"auto\")"
   ]
  },
  {
   "cell_type": "code",
   "execution_count": 2,
   "metadata": {},
   "outputs": [
    {
     "name": "stdout",
     "output_type": "stream",
     "text": [
      "<s> How many children were infected by HIV-1 in 2008-2009, worldwide?\n",
      "\n",
      "According to UNAIDS, in 2008-2009, an estimated 250,000 children under the age of 15 were infected with HIV-1 globally. This represents approximately 4% of all new HIV infections occurring in children during this period.</s>\n"
     ]
    }
   ],
   "source": [
    "input_text = \"How many children were infected by HIV-1 in 2008-2009, worldwide?\"#more than 400,000 children were infected worldwide, mostly through MTCT and 90% of them lived in sub-Saharan Africa.\n",
    "input_ids = tokenizer(input_text, return_tensors=\"pt\").input_ids.to(\"cuda\")\n",
    "outputs = model.generate(input_ids, num_beams=2, length_penalty=-1, max_new_tokens=200)\n",
    "print(tokenizer.decode(outputs[0]))"
   ]
  },
  {
   "cell_type": "code",
   "execution_count": 3,
   "metadata": {},
   "outputs": [
    {
     "name": "stdout",
     "output_type": "stream",
     "text": [
      "<s> What is the main cause of HIV-1 infection in children?\n",
      "\n",
      "HIV-1 infection in children can occur through various means, including:\n",
      "\n",
      "1. Vertical transmission: This is the transmission of HIV-1 from an infected mother to her child during pregnancy, childbirth, or breastfeeding. Vertical transmission is the most common way that children become infected with HIV-1.\n",
      "2. Horizontal transmission: This occurs when an infected person, usually a parent or caregiver, transmits the virus to a child through sexual contact, sharing of needles, or other means.\n",
      "3. Blood transfusion: In rare cases, HIV-1 can be transmitted through blood transfusions from an infected donor.\n",
      "4. Organ or tissue transplantation: In rare cases, HIV-1 can be transmitted through organ or tissue transplantation from an infected donor.\n",
      "\n",
      "The main cause of HIV-1\n"
     ]
    }
   ],
   "source": [
    "input_text = \"What is the main cause of HIV-1 infection in children?\"#Mother-to-child transmission (MTCT) is the main cause of HIV-1 infection in children worldwide.\n",
    "input_ids = tokenizer(input_text, return_tensors=\"pt\").input_ids.to(\"cuda\")\n",
    "outputs = model.generate(input_ids, num_beams=2, length_penalty=-1, max_new_tokens=200)\n",
    "print(tokenizer.decode(outputs[0]))"
   ]
  },
  {
   "cell_type": "code",
   "execution_count": 4,
   "metadata": {},
   "outputs": [
    {
     "name": "stdout",
     "output_type": "stream",
     "text": [
      "<s> What is the structure of the Ebolavirus?\n",
      "\n",
      "The Ebolavirus is a filamentous, enveloped, single-stranded RNA virus that belongs to the Filoviridae family. The virus has a complex structure, consisting of several distinct components:\n",
      "\n",
      "1. Capsid: The capsid is the protein shell of the virus, which surrounds the RNA genome. It is composed of nine proteins (VP1, VP2, VP3, VP4, VP5, VP6, VP7, VP8, and VP9) that self-assemble to form a cylindrical structure.\n",
      "2. Glycoprotein: The glycoprotein is a transmembrane protein that spans the viral envelope and plays a crucial role in the attachment and entry of the virus into host cells. The glycoprotein is composed of two subunits, GP1 and GP2,\n"
     ]
    }
   ],
   "source": [
    "input_text = \"What is the structure of the Ebolavirus?\"# single-strand RNA filoviruses\n",
    "input_ids = tokenizer(input_text, return_tensors=\"pt\").input_ids.to(\"cuda\")\n",
    "outputs = model.generate(input_ids, num_beams=2, length_penalty=-1, max_new_tokens=200)\n",
    "print(tokenizer.decode(outputs[0]))"
   ]
  },
  {
   "cell_type": "markdown",
   "metadata": {},
   "source": [
    "## Test BioMedLM model on COVID-QA"
   ]
  },
  {
   "cell_type": "code",
   "execution_count": 1,
   "metadata": {},
   "outputs": [
    {
     "name": "stderr",
     "output_type": "stream",
     "text": [
      "c:\\Users\\thelo\\Medical-QA-LLM\\venv\\lib\\site-packages\\huggingface_hub\\file_download.py:797: FutureWarning: `resume_download` is deprecated and will be removed in version 1.0.0. Downloads always resume when possible. If you want to force a new download, use `force_download=True`.\n",
      "  warnings.warn(\n",
      "c:\\Users\\thelo\\Medical-QA-LLM\\venv\\lib\\site-packages\\torch\\_utils.py:776: UserWarning: TypedStorage is deprecated. It will be removed in the future and UntypedStorage will be the only storage class. This should only matter to you if you are using storages directly.  To access UntypedStorage directly, use tensor.untyped_storage() instead of tensor.storage()\n",
      "  return self.fget.__get__(instance, owner)()\n",
      "c:\\Users\\thelo\\Medical-QA-LLM\\venv\\lib\\site-packages\\huggingface_hub\\file_download.py:797: FutureWarning: `resume_download` is deprecated and will be removed in version 1.0.0. Downloads always resume when possible. If you want to force a new download, use `force_download=True`.\n",
      "  warnings.warn(\n",
      "WARNING:root:Some parameters are on the meta device device because they were offloaded to the cpu.\n"
     ]
    }
   ],
   "source": [
    "from transformers import AutoTokenizer, AutoModelForCausalLM\n",
    "import torch\n",
    "# Load the tokenizer and model\n",
    "tokenizer = AutoTokenizer.from_pretrained(\"stanford-crfm/BioMedLM\")\n",
    "model = AutoModelForCausalLM.from_pretrained(\"stanford-crfm/BioMedLM\",\n",
    "                                             device_map=\"auto\")"
   ]
  },
  {
   "cell_type": "code",
   "execution_count": 2,
   "metadata": {},
   "outputs": [
    {
     "name": "stderr",
     "output_type": "stream",
     "text": [
      "The attention mask and the pad token id were not set. As a consequence, you may observe unexpected behavior. Please pass your input's `attention_mask` to obtain reliable results.\n",
      "Setting `pad_token_id` to `eos_token_id`:28895 for open-end generation.\n"
     ]
    },
    {
     "name": "stdout",
     "output_type": "stream",
     "text": [
      "How many children were infected by HIV-1 in 2008-2009, worldwide?**\n",
      "\n",
      "**(A)** Number of children infected with HIV in 2008 and 2009 worldwide. **(B) The number of children living with HIV worldwide in 2008.** The number was estimated by UNAIDS.\n",
      "\n",
      "(TIF)\n",
      "\n",
      "### \n",
      "\n",
      "Click here for additional data file.\n",
      "[The effect of a single dose of ethanol on the activity of the enzymes of carbohydrate metabolism in the liver of rats].\n",
      "The activity of hexokinase, phosphofructokinase, glucose-6-phosphate dehydrogenase, 6-phosphogluconate dehydrogenase, pyruvate kinase, lactate dehydrogenase, malate dehydrogenase, glutamate dehydrogenase and glutamate-oxalacetate transaminase was studied in the rat liver after a single intragastric administration of ethanol (1.5 g/kg). It was found that ethanol administration led to a decrease in the activity level of the majority of the studied enzymes. The most pronounced changes were observed in the activities of phosphoglucose isomerase\n"
     ]
    }
   ],
   "source": [
    "input_text = \"How many children were infected by HIV-1 in 2008-2009, worldwide?\"#more than 400,000 children were infected worldwide, mostly through MTCT and 90% of them lived in sub-Saharan Africa.\n",
    "input_ids = tokenizer(input_text, return_tensors=\"pt\").input_ids.to(\"cuda\")\n",
    "outputs = model.generate(input_ids, num_beams=2, no_repeat_ngram_size=3, max_new_tokens=200)\n",
    "print(tokenizer.decode(outputs[0]))"
   ]
  },
  {
   "cell_type": "code",
   "execution_count": 3,
   "metadata": {},
   "outputs": [
    {
     "name": "stderr",
     "output_type": "stream",
     "text": [
      "The attention mask and the pad token id were not set. As a consequence, you may observe unexpected behavior. Please pass your input's `attention_mask` to obtain reliable results.\n",
      "Setting `pad_token_id` to `eos_token_id`:28895 for open-end generation.\n"
     ]
    },
    {
     "name": "stdout",
     "output_type": "stream",
     "text": [
      "What is the main cause of HIV-1 infection in children? {#s2a}\n",
      "---------------\n",
      "\n",
      "The majority of children infected with HIV are infected through mother-to-child transmission (MTCT) [@pmed.1001401-UNAIDS1]. In the absence of any intervention, the risk of MTCT is 15%--45% in the general population, and can be as high as 60%--90% in women with high viral loads [Table 1](#pmed-1001402-t001){ref-type=\"table\"} [Text S1](#pcbi.1003053.s001)\\]. In resource-limited settings, where access to antiretroviral therapy (ART) is limited, MTCT remains a major source of new infections in children.\n",
      "\n",
      "10.1371/journal.pmed\n",
      "\n",
      "### Controlling MTCT of HIV: What is the best way to prevent it? {F\n"
     ]
    }
   ],
   "source": [
    "input_text = \"What is the main cause of HIV-1 infection in children?\"#Mother-to-child transmission (MTCT) is the main cause of HIV-1 infection in children worldwide.\n",
    "input_ids = tokenizer(input_text, return_tensors=\"pt\").input_ids.to(\"cuda\")\n",
    "outputs = model.generate(input_ids, num_beams=2, no_repeat_ngram_size=3, max_new_tokens=200)\n",
    "print(tokenizer.decode(outputs[0]))"
   ]
  },
  {
   "cell_type": "code",
   "execution_count": 4,
   "metadata": {},
   "outputs": [
    {
     "name": "stderr",
     "output_type": "stream",
     "text": [
      "The attention mask and the pad token id were not set. As a consequence, you may observe unexpected behavior. Please pass your input's `attention_mask` to obtain reliable results.\n",
      "Setting `pad_token_id` to `eos_token_id`:28895 for open-end generation.\n"
     ]
    },
    {
     "name": "stdout",
     "output_type": "stream",
     "text": [
      "What is the structure of the Ebolavirus? {#Sec2}\n",
      "===\"sec\"}\" section describes the current understanding of the structure and composition of the EBOV virion. \"[The EBOV life cycle](#FPar1){ref-type=\"Sec3){#FPary1}\n",
      "\"I'm not going to be able to do it\": a qualitative study of the experiences of people with multiple sclerosis and their partners.\n",
      "The aim of this qualitative study was to explore the experiences and perceptions of people living with Multiple Sclerosis (MS) and their partner's experiences of living with MS. A qualitative approach was used. Semi-structured interviews were conducted with 10 people with MS and 10 partners. The interviews were transcribed verbatim and analysed using thematic analysis. Four main themes were identified: (1) the impact of MS on the couple relationship; (2) coping strategies; (3) the role of the partner; and (4) the need for support.\n"
     ]
    }
   ],
   "source": [
    "input_text = \"What is the structure of the Ebolavirus?\"# single-strand RNA filoviruses\n",
    "input_ids = tokenizer(input_text, return_tensors=\"pt\").input_ids.to(\"cuda\")\n",
    "outputs = model.generate(input_ids, num_beams=2, no_repeat_ngram_size=3, max_new_tokens=200)\n",
    "print(tokenizer.decode(outputs[0]))"
   ]
  }
 ],
 "metadata": {
  "kernelspec": {
   "display_name": "venv",
   "language": "python",
   "name": "python3"
  },
  "language_info": {
   "codemirror_mode": {
    "name": "ipython",
    "version": 3
   },
   "file_extension": ".py",
   "mimetype": "text/x-python",
   "name": "python",
   "nbconvert_exporter": "python",
   "pygments_lexer": "ipython3",
   "version": "3.9.2"
  }
 },
 "nbformat": 4,
 "nbformat_minor": 2
}
