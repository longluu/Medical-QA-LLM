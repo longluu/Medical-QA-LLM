{
 "cells": [
  {
   "cell_type": "markdown",
   "id": "bb0ff562-289b-4358-b8ab-5edeb530b2e6",
   "metadata": {
    "jp-MarkdownHeadingCollapsed": true,
    "tags": []
   },
   "source": [
    "# Look at a sample"
   ]
  },
  {
   "cell_type": "code",
   "execution_count": 33,
   "id": "d843269e-6b23-46c2-8cec-73ad7bd48091",
   "metadata": {
    "tags": []
   },
   "outputs": [
    {
     "data": {
      "application/vnd.jupyter.widget-view+json": {
       "model_id": "6f18f8186f2648ac8e74acd47131e62b",
       "version_major": 2,
       "version_minor": 0
      },
      "text/plain": [
       "Downloading data:   0%|          | 0.00/2.27M [00:00<?, ?B/s]"
      ]
     },
     "metadata": {},
     "output_type": "display_data"
    },
    {
     "data": {
      "application/vnd.jupyter.widget-view+json": {
       "model_id": "135dbeca9be84da0bb4076dd88b8e710",
       "version_major": 2,
       "version_minor": 0
      },
      "text/plain": [
       "Generating train split: 0 examples [00:00, ? examples/s]"
      ]
     },
     "metadata": {},
     "output_type": "display_data"
    }
   ],
   "source": [
    "from datasets import load_dataset\n",
    "\n",
    "dataset = load_dataset(\"covid_qa_deepset\")"
   ]
  },
  {
   "cell_type": "code",
   "execution_count": 34,
   "id": "43e05a47-8fb4-40cd-b75b-b433b1a289fa",
   "metadata": {
    "tags": []
   },
   "outputs": [
    {
     "data": {
      "text/plain": [
       "DatasetDict({\n",
       "    train: Dataset({\n",
       "        features: ['document_id', 'context', 'question', 'is_impossible', 'id', 'answers'],\n",
       "        num_rows: 2019\n",
       "    })\n",
       "})"
      ]
     },
     "execution_count": 34,
     "metadata": {},
     "output_type": "execute_result"
    }
   ],
   "source": [
    "dataset"
   ]
  },
  {
   "cell_type": "code",
   "execution_count": 39,
   "id": "b205a1a2-8bc6-4ce4-b67f-7d13a4455d7b",
   "metadata": {
    "tags": []
   },
   "outputs": [
    {
     "name": "stdout",
     "output_type": "stream",
     "text": [
      "Functional Genetic Variants in DC-SIGNR Are Associated with Mother-to-Child Transmission of HIV-1\n",
      "\n",
      "https://www.ncbi.nlm.nih.gov/pmc/articles/PMC2752805/\n",
      "\n",
      "Boily-Larouche, Geneviève; Iscache, Anne-Laure; Zijenah, Lynn S.; Humphrey, Jean H.; Mouland, Andrew J.; Ward, Brian J.; Roger, Michel\n",
      "2009-10-07\n",
      "DOI:10.1371/journal.pone.0007211\n",
      "License:cc-by\n",
      "\n",
      "Abstract: BACKGROUND: Mother-to-child transmission (MTCT) is the main cause of HIV-1 infection in children worldwide. Given that the C-type lectin recep\n"
     ]
    }
   ],
   "source": [
    "print(dataset['train'][0]['context'][:500])"
   ]
  },
  {
   "cell_type": "code",
   "execution_count": 40,
   "id": "d8b9e7c9-736e-4e6d-aeaf-6cdaee2f5b4f",
   "metadata": {
    "tags": []
   },
   "outputs": [
    {
     "name": "stdout",
     "output_type": "stream",
     "text": [
      "What is the main cause of HIV-1 infection in children?\n"
     ]
    }
   ],
   "source": [
    "print(dataset['train'][0]['question'])"
   ]
  },
  {
   "cell_type": "code",
   "execution_count": 41,
   "id": "ed4fe5b9-8c26-4b28-b8c8-23bfe4f87270",
   "metadata": {
    "tags": []
   },
   "outputs": [
    {
     "name": "stdout",
     "output_type": "stream",
     "text": [
      "{'text': ['Mother-to-child transmission (MTCT) is the main cause of HIV-1 infection in children worldwide.'], 'answer_start': [370]}\n"
     ]
    }
   ],
   "source": [
    "print(dataset['train'][0]['answers'])"
   ]
  },
  {
   "cell_type": "code",
   "execution_count": 69,
   "id": "1692950c-e49c-487c-8494-45adb7565707",
   "metadata": {
    "tags": []
   },
   "outputs": [
    {
     "data": {
      "text/plain": [
       "[262, 276, 278, 316, 305]"
      ]
     },
     "execution_count": 69,
     "metadata": {},
     "output_type": "execute_result"
    }
   ],
   "source": [
    "dataset['train'][:5]['id']"
   ]
  },
  {
   "cell_type": "markdown",
   "id": "f2a99818-8186-4fdf-87ac-6c450a457448",
   "metadata": {
    "jp-MarkdownHeadingCollapsed": true,
    "tags": []
   },
   "source": [
    "# Tokenizer"
   ]
  },
  {
   "cell_type": "code",
   "execution_count": 48,
   "id": "97395f07-4382-467a-8fab-0a74b2d6c36a",
   "metadata": {
    "tags": []
   },
   "outputs": [
    {
     "name": "stdout",
     "output_type": "stream",
     "text": [
      "[CLS] what is the main cause of hiv - 1 infection in children? [SEP] functional genetic variants in dc - signr are associated with mother - to - child transmission of hiv - 1 https : / / www. ncbi. nlm. nih. gov / pmc / articles / pmc2752805 / boily - larouche, genevieve ; iscache, anne - laure ; zi\n",
      "[CLS] what is the main cause of hiv - 1 infection in children? [SEP]ct of hiv - 1. methods and findings : to investigate the potential role of dc - signr in mtct of hiv - 1, we carried out a genetic association study of dc - signr in a well - characterized cohort of 197 hiv - infected mothers and th\n",
      "[CLS] what is the main cause of hiv - 1 infection in children? [SEP] - 180a ) hiv - 1 infection. the promoter variant reduced transcriptional activity in vitro. in homozygous h1 infants bearing both the p - 198a and int2 - 180a mutations, we observed a 4 - fold decrease in the level of placental dc \n"
     ]
    }
   ],
   "source": [
    "from transformers import AutoTokenizer\n",
    "\n",
    "# Load tokenizer\n",
    "tokinizer= AutoTokenizer.from_pretrained('UFNLP/gatortronS')\n",
    "\n",
    "# Tokenize an example\n",
    "question = dataset['train'][:4]['question']\n",
    "context = dataset['train'][:4]['context']\n",
    "inputs = tokenizer(\n",
    "    question,\n",
    "    context,\n",
    "    max_length=512,\n",
    "    truncation=\"only_second\",\n",
    "    stride=250,\n",
    "    return_overflowing_tokens=True,\n",
    "    return_offsets_mapping=True,\n",
    ")\n",
    "\n",
    "for ids in inputs[\"input_ids\"][:3]:\n",
    "    print(tokenizer.decode(ids)[:300])"
   ]
  },
  {
   "cell_type": "code",
   "execution_count": 49,
   "id": "34d2bac5-5768-4cc7-9b79-35669a9d3e14",
   "metadata": {
    "tags": []
   },
   "outputs": [
    {
     "name": "stdout",
     "output_type": "stream",
     "text": [
      "[0, 0, 0, 0, 0, 0, 0, 0, 0, 0, 0, 0, 0, 0, 0, 0, 0, 0, 0, 0, 0, 0, 0, 0, 0, 0, 0, 0, 0, 1, 1, 1, 1, 1, 1, 1, 1, 1, 1, 1, 1, 1, 1, 1, 1, 1, 1, 1, 1, 1, 1, 1, 1, 1, 1, 1, 1, 1, 1, 2, 2, 2, 2, 2, 2, 2, 2, 2, 2, 2, 2, 2, 2, 2, 2, 2, 2, 2, 2, 2, 2, 2, 2, 2, 2, 2, 2, 2, 3, 3, 3, 3, 3, 3, 3, 3, 3, 3, 3, 3, 3, 3, 3, 3, 3, 3, 3, 3, 3, 3, 3, 3, 3, 3, 3, 3, 3, 3, 3]\n"
     ]
    }
   ],
   "source": [
    "print(inputs[\"overflow_to_sample_mapping\"])\n"
   ]
  },
  {
   "cell_type": "code",
   "execution_count": 51,
   "id": "376b2032-7d0c-457b-ac11-f2e27eac8074",
   "metadata": {
    "tags": []
   },
   "outputs": [
    {
     "data": {
      "text/plain": [
       "dict_keys(['input_ids', 'token_type_ids', 'attention_mask', 'offset_mapping', 'overflow_to_sample_mapping'])"
      ]
     },
     "execution_count": 51,
     "metadata": {},
     "output_type": "execute_result"
    }
   ],
   "source": [
    "inputs.keys()"
   ]
  },
  {
   "cell_type": "code",
   "execution_count": 58,
   "id": "42258ba2-78e7-4d09-9971-354c39430a53",
   "metadata": {
    "tags": []
   },
   "outputs": [
    {
     "name": "stdout",
     "output_type": "stream",
     "text": [
      "[154, 0, 0, 0, 0, 0, 0, 0, 0, 0, 0, 0, 0, 0, 0, 0, 0, 0, 0, 0, 0, 0, 0, 0, 0, 0, 0, 0, 0, 0, 361, 123, 0, 0, 0, 0, 0, 0, 0, 0, 0, 0, 0, 0, 0, 0, 0, 0, 0, 0, 0, 0, 0, 0, 0, 0, 0, 0, 0, 0, 423, 181, 0, 0, 0, 0, 0, 0, 0, 0, 0, 0, 0, 0, 0, 0, 0, 0, 0, 0, 0, 0, 0, 0, 0, 0, 0, 0, 0, 0, 0, 0, 0, 0, 0, 0, 0, 0, 0, 0, 0, 0, 0, 0, 0, 0, 0, 0, 0, 0, 0, 0, 0, 0, 0, 454, 227, 0, 0]\n",
      "[177, 0, 0, 0, 0, 0, 0, 0, 0, 0, 0, 0, 0, 0, 0, 0, 0, 0, 0, 0, 0, 0, 0, 0, 0, 0, 0, 0, 0, 0, 390, 152, 0, 0, 0, 0, 0, 0, 0, 0, 0, 0, 0, 0, 0, 0, 0, 0, 0, 0, 0, 0, 0, 0, 0, 0, 0, 0, 0, 0, 452, 210, 0, 0, 0, 0, 0, 0, 0, 0, 0, 0, 0, 0, 0, 0, 0, 0, 0, 0, 0, 0, 0, 0, 0, 0, 0, 0, 0, 0, 0, 0, 0, 0, 0, 0, 0, 0, 0, 0, 0, 0, 0, 0, 0, 0, 0, 0, 0, 0, 0, 0, 0, 0, 0, 499, 272, 0, 0]\n"
     ]
    }
   ],
   "source": [
    "answers = dataset[\"train\"][:4][\"answers\"]\n",
    "start_positions = []\n",
    "end_positions = []\n",
    "\n",
    "for i, offset in enumerate(inputs[\"offset_mapping\"]):\n",
    "    sample_idx = inputs[\"overflow_to_sample_mapping\"][i]\n",
    "    answer = answers[sample_idx]\n",
    "    start_char = answer[\"answer_start\"][0]\n",
    "    end_char = answer[\"answer_start\"][0] + len(answer[\"text\"][0])\n",
    "    sequence_ids = inputs.sequence_ids(i)\n",
    "\n",
    "    # Find the start and end of the context\n",
    "    idx = 0\n",
    "    while sequence_ids[idx] != 1:\n",
    "        idx += 1\n",
    "    context_start = idx\n",
    "    while sequence_ids[idx] == 1:\n",
    "        idx += 1\n",
    "    context_end = idx - 1\n",
    "\n",
    "    # If the answer is not fully inside the context, label is (0, 0)\n",
    "    if offset[context_start][0] > start_char or offset[context_end][1] < end_char:\n",
    "        start_positions.append(0)\n",
    "        end_positions.append(0)\n",
    "    else:\n",
    "        # Otherwise it's the start and end token positions\n",
    "        idx = context_start\n",
    "        while idx <= context_end and offset[idx][0] <= start_char:\n",
    "            idx += 1\n",
    "        start_positions.append(idx - 1)\n",
    "\n",
    "        idx = context_end\n",
    "        while idx >= context_start and offset[idx][1] >= end_char:\n",
    "            idx -= 1\n",
    "        end_positions.append(idx + 1)\n",
    "\n",
    "print(start_positions)\n",
    "print(end_positions)"
   ]
  },
  {
   "cell_type": "code",
   "execution_count": 62,
   "id": "b9d868fe-4b86-4c86-901f-8f4b0106f56a",
   "metadata": {},
   "outputs": [
    {
     "name": "stdout",
     "output_type": "stream",
     "text": [
      "Theoretical answer: Mother-to-child transmission (MTCT) is the main cause of HIV-1 infection in children worldwide., labels give: mother - to - child transmission ( mtct ) is the main cause of hiv - 1 infection in children worldwide.\n"
     ]
    }
   ],
   "source": [
    "idx = 0\n",
    "sample_idx = inputs[\"overflow_to_sample_mapping\"][idx]\n",
    "answer = answers[sample_idx][\"text\"][0]\n",
    "\n",
    "start = start_positions[idx]\n",
    "end = end_positions[idx]\n",
    "labeled_answer = tokenizer.decode(inputs[\"input_ids\"][idx][start : end + 1])\n",
    "\n",
    "print(f\"Theoretical answer: {answer}, labels give: {labeled_answer}\")"
   ]
  },
  {
   "cell_type": "code",
   "execution_count": 63,
   "id": "624d936f-aa94-4a44-9004-6b761e0ecc54",
   "metadata": {
    "tags": []
   },
   "outputs": [
    {
     "name": "stdout",
     "output_type": "stream",
     "text": [
      "Theoretical answer: Mother-to-child transmission (MTCT) is the main cause of HIV-1 infection in children worldwide., decoded example: [CLS] what is the main cause of hiv - 1 infection in children? [SEP] ]. it has been proposed that interaction between dc - signr and hiv - 1 might enhance viral transfer to other susceptible cell types [ 2 ] but dc - signr can also internalize and mediate proteasome - dependant degradation of viruses [ 4 ] that may differently affect the outcome of infection. given the presence of dc - signr at the maternal - fetal interface and its interaction with hiv - 1, we hypothesized that it could influence mtct of hiv - 1. to investigate the potential role of dc - signr in mtct of hiv - 1, we carried out a genetic association study of dc - signr in a well - characterized cohort of hiv - infected mothers and their infants recruited in zimbabwe, and identified specific dc - signr variants associated with increased risks of hiv transmission. we further characterized the functional impact of these genetic variants on dc - signr expression and show that they affect both the level and type of dc - signr transcripts produced in the placenta. samples consisted of stored dna extracts obtained from 197 mother - child pairs co - enrolled immediately postpartum in the zvitambo vitamin a supplementation trial ( harare, zimbabwe ) and followed at 6 weeks, and 3 - monthly intervals up to 24 months. the zvitambo project was a randomized placebocontrolled clinical trial that enrolled 14, 110 mother - child pairs, between november 1997 and january 2000, with the main objective of investigating the impact of immediate postpartum vitamin a supplementation on mtct of hiv - 1. the samples used in the present study were from mother - child pairs randomly assigned to the placebo group of the zvitambo project. antiretroviral prophylaxis for hiv - 1 - positive antenatal women was not available in the harare public - sector during zvitambo patient recruitment. the samples were consecutively drawn from two groups : 97 hiv - 1 - positive mother / hiv - 1 - positive child pairs and 100 hiv - 1 - positive mother / hiv - negative child pairs. mother's serological status was determined by elisa and confirmed by western blot. infants were considered to be infected if they were hiv - 1 seropositive at 18 months or older and had two or more positive hiv - 1 - dna polymerase chain reaction ( pcr ) results at earlier ages. 100 infants were considered to be uninfected as they were elisa negative at 18 months or older and had two dna pcr negative results [SEP]\n"
     ]
    }
   ],
   "source": [
    "idx = 4\n",
    "sample_idx = inputs[\"overflow_to_sample_mapping\"][idx]\n",
    "answer = answers[sample_idx][\"text\"][0]\n",
    "\n",
    "decoded_example = tokenizer.decode(inputs[\"input_ids\"][idx])\n",
    "print(f\"Theoretical answer: {answer}, decoded example: {decoded_example}\")"
   ]
  },
  {
   "cell_type": "markdown",
   "id": "66c484f4-307c-4de4-9317-4891a4a060a7",
   "metadata": {},
   "source": [
    "# End-to-end pipeline"
   ]
  },
  {
   "cell_type": "code",
   "execution_count": 1,
   "id": "840c45c7-2da7-4101-a297-f42f7e5c99f4",
   "metadata": {
    "tags": []
   },
   "outputs": [
    {
     "name": "stdout",
     "output_type": "stream",
     "text": [
      "Loading and preprocessing the dataset ...\n",
      "covid_qa_deepset\n"
     ]
    },
    {
     "data": {
      "application/vnd.jupyter.widget-view+json": {
       "model_id": "e8a8a03a75bf4d59a2bd0494f5639679",
       "version_major": 2,
       "version_minor": 0
      },
      "text/plain": [
       "Map:   0%|          | 0/1817 [00:00<?, ? examples/s]"
      ]
     },
     "metadata": {},
     "output_type": "display_data"
    },
    {
     "data": {
      "application/vnd.jupyter.widget-view+json": {
       "model_id": "8ef2c38471724c32a8a70794a6f53f99",
       "version_major": 2,
       "version_minor": 0
      },
      "text/plain": [
       "Map:   0%|          | 0/202 [00:00<?, ? examples/s]"
      ]
     },
     "metadata": {},
     "output_type": "display_data"
    }
   ],
   "source": [
    "from src.data.data_loader import *\n",
    "\n",
    "# Load the data\n",
    "data_loader = DatasetLoader(dataset_name='covid_qa_deepset', model_name='UFNLP/gatortronS', max_length=512, doc_stride=250)\n",
    "train_dataset, validation_dataset, validation_dataset_raw = data_loader.load_dataset()"
   ]
  },
  {
   "cell_type": "code",
   "execution_count": 2,
   "id": "dd879200-1542-4bc3-825c-fdf293503285",
   "metadata": {
    "tags": []
   },
   "outputs": [
    {
     "data": {
      "text/plain": [
       "Dataset({\n",
       "    features: ['input_ids', 'token_type_ids', 'attention_mask', 'start_positions', 'end_positions'],\n",
       "    num_rows: 50269\n",
       "})"
      ]
     },
     "execution_count": 2,
     "metadata": {},
     "output_type": "execute_result"
    }
   ],
   "source": [
    "train_dataset"
   ]
  },
  {
   "cell_type": "code",
   "execution_count": 3,
   "id": "8da27873-5231-4bc9-a642-fe31e5d01e8b",
   "metadata": {},
   "outputs": [
    {
     "data": {
      "text/plain": [
       "Dataset({\n",
       "    features: ['input_ids', 'token_type_ids', 'attention_mask', 'offset_mapping', 'example_id'],\n",
       "    num_rows: 5451\n",
       "})"
      ]
     },
     "execution_count": 3,
     "metadata": {},
     "output_type": "execute_result"
    }
   ],
   "source": [
    "validation_dataset"
   ]
  },
  {
   "cell_type": "code",
   "execution_count": 4,
   "id": "f21cfa3a-25f6-4265-8281-fae9b073a407",
   "metadata": {
    "tags": []
   },
   "outputs": [
    {
     "data": {
      "text/plain": [
       "Dataset({\n",
       "    features: ['document_id', 'context', 'question', 'is_impossible', 'id', 'answers'],\n",
       "    num_rows: 202\n",
       "})"
      ]
     },
     "execution_count": 4,
     "metadata": {},
     "output_type": "execute_result"
    }
   ],
   "source": [
    "validation_dataset_raw"
   ]
  },
  {
   "cell_type": "code",
   "execution_count": null,
   "id": "7a2f5fb3-bff5-4850-a82f-3d28a7bf4dca",
   "metadata": {},
   "outputs": [],
   "source": []
  }
 ],
 "metadata": {
  "kernelspec": {
   "display_name": "Custom (Tutorial-LLM)",
   "language": "python",
   "name": "tutorial-llm"
  },
  "language_info": {
   "codemirror_mode": {
    "name": "ipython",
    "version": 3
   },
   "file_extension": ".py",
   "mimetype": "text/x-python",
   "name": "python",
   "nbconvert_exporter": "python",
   "pygments_lexer": "ipython3",
   "version": "3.9.2"
  }
 },
 "nbformat": 4,
 "nbformat_minor": 5
}
